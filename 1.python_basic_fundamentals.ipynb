{
 "cells": [
  {
   "cell_type": "code",
   "id": "initial_id",
   "metadata": {
    "collapsed": true,
    "ExecuteTime": {
     "end_time": "2025-07-08T07:20:40.964253Z",
     "start_time": "2025-07-08T07:20:40.960605Z"
    }
   },
   "source": [
    "# python is case-sensitive language\n",
    "print(\"Hello world!\")"
   ],
   "outputs": [
    {
     "name": "stdout",
     "output_type": "stream",
     "text": [
      "Hello world!\n"
     ]
    }
   ],
   "execution_count": 1
  },
  {
   "metadata": {
    "ExecuteTime": {
     "end_time": "2025-07-08T07:22:14.591466Z",
     "start_time": "2025-07-08T07:22:14.586011Z"
    }
   },
   "cell_type": "code",
   "source": "print(\"my age is:\", 7)",
   "id": "6977965e99081880",
   "outputs": [
    {
     "name": "stdout",
     "output_type": "stream",
     "text": [
      "my age is: 7\n"
     ]
    }
   ],
   "execution_count": 4
  },
  {
   "metadata": {
    "ExecuteTime": {
     "end_time": "2025-07-08T07:23:10.417902Z",
     "start_time": "2025-07-08T07:23:10.410229Z"
    }
   },
   "cell_type": "code",
   "source": "print(\"usr\", \"bin\", \"go\", sep='/')",
   "id": "9e494eddc4679ac0",
   "outputs": [
    {
     "name": "stdout",
     "output_type": "stream",
     "text": [
      "usr/bin/go\n"
     ]
    }
   ],
   "execution_count": 5
  },
  {
   "metadata": {
    "ExecuteTime": {
     "end_time": "2025-07-08T07:23:42.416852Z",
     "start_time": "2025-07-08T07:23:42.407979Z"
    }
   },
   "cell_type": "code",
   "source": [
    "print(\"hi\", end='-')\n",
    "print(\"hello\")"
   ],
   "id": "d6f1090b6f9622b7",
   "outputs": [
    {
     "name": "stdout",
     "output_type": "stream",
     "text": [
      "hi-hello\n"
     ]
    }
   ],
   "execution_count": 6
  },
  {
   "metadata": {},
   "cell_type": "markdown",
   "source": "## Data types",
   "id": "ff543c5bc3258d1d"
  },
  {
   "metadata": {
    "ExecuteTime": {
     "end_time": "2025-07-08T07:31:51.193375Z",
     "start_time": "2025-07-08T07:31:51.191445Z"
    }
   },
   "cell_type": "code",
   "source": [
    "#integer\n",
    "print(8)\n",
    "# no separate long, "
   ],
   "id": "f6b0425cc1d1f37e",
   "outputs": [
    {
     "name": "stdout",
     "output_type": "stream",
     "text": [
      "8\n"
     ]
    }
   ],
   "execution_count": 27
  },
  {
   "metadata": {
    "ExecuteTime": {
     "end_time": "2025-07-08T07:27:02.460594Z",
     "start_time": "2025-07-08T07:27:02.458355Z"
    }
   },
   "cell_type": "code",
   "source": [
    "# can handle upto 1^308 - 1^309 is inf\n",
    "print(1e308)\n",
    "print(1e309)"
   ],
   "id": "42780d148670c30f",
   "outputs": [
    {
     "name": "stdout",
     "output_type": "stream",
     "text": [
      "1e+308\n",
      "inf\n"
     ]
    }
   ],
   "execution_count": 12
  },
  {
   "metadata": {
    "ExecuteTime": {
     "end_time": "2025-07-08T07:27:57.268602Z",
     "start_time": "2025-07-08T07:27:57.265793Z"
    }
   },
   "cell_type": "code",
   "source": [
    "#float\n",
    "print(8.5)\n",
    "print(1.4e308)\n",
    "print(1.4e309)"
   ],
   "id": "1b6a105e58cd000a",
   "outputs": [
    {
     "name": "stdout",
     "output_type": "stream",
     "text": [
      "8.5\n",
      "1.4e+308\n",
      "inf\n"
     ]
    }
   ],
   "execution_count": 15
  },
  {
   "metadata": {
    "ExecuteTime": {
     "end_time": "2025-07-08T07:28:51.268780Z",
     "start_time": "2025-07-08T07:28:51.262694Z"
    }
   },
   "cell_type": "code",
   "source": [
    "#boolean\n",
    "print(True)\n",
    "print(False)"
   ],
   "id": "4683a3dc93981252",
   "outputs": [
    {
     "name": "stdout",
     "output_type": "stream",
     "text": [
      "True\n",
      "False\n"
     ]
    }
   ],
   "execution_count": 16
  },
  {
   "metadata": {
    "ExecuteTime": {
     "end_time": "2025-07-08T07:29:28.878641Z",
     "start_time": "2025-07-08T07:29:28.876069Z"
    }
   },
   "cell_type": "code",
   "source": [
    "# python does not have char, only string\n",
    "print(type('h'))"
   ],
   "id": "d0e3b61f680c1349",
   "outputs": [
    {
     "name": "stdout",
     "output_type": "stream",
     "text": [
      "<class 'str'>\n"
     ]
    }
   ],
   "execution_count": 19
  },
  {
   "metadata": {
    "ExecuteTime": {
     "end_time": "2025-07-08T07:34:28.152153Z",
     "start_time": "2025-07-08T07:34:28.145392Z"
    }
   },
   "cell_type": "code",
   "source": [
    "#complex\n",
    "print(1+2j)\n",
    "print(1e308+2j)\n",
    "print(1e309+2j)"
   ],
   "id": "c936dc60eea94d8d",
   "outputs": [
    {
     "name": "stdout",
     "output_type": "stream",
     "text": [
      "(1+2j)\n",
      "(1e+308+2j)\n",
      "(inf+2j)\n"
     ]
    }
   ],
   "execution_count": 30
  },
  {
   "metadata": {
    "ExecuteTime": {
     "end_time": "2025-07-08T07:30:11.378020Z",
     "start_time": "2025-07-08T07:30:11.367164Z"
    }
   },
   "cell_type": "code",
   "source": [
    "# list (array in cpp)\n",
    "print([1,2,3,4,5,6])"
   ],
   "id": "fa97a1264403efcc",
   "outputs": [
    {
     "name": "stdout",
     "output_type": "stream",
     "text": [
      "[1, 2, 3, 4, 5, 6]\n"
     ]
    }
   ],
   "execution_count": 21
  },
  {
   "metadata": {
    "ExecuteTime": {
     "end_time": "2025-07-08T07:30:26.193991Z",
     "start_time": "2025-07-08T07:30:26.187951Z"
    }
   },
   "cell_type": "code",
   "source": [
    " # tuple\n",
    "print((1,2,3,4,5))"
   ],
   "id": "9142b8dc5a7dd5ab",
   "outputs": [
    {
     "name": "stdout",
     "output_type": "stream",
     "text": [
      "(1, 2, 3, 4, 5)\n"
     ]
    }
   ],
   "execution_count": 22
  },
  {
   "metadata": {
    "ExecuteTime": {
     "end_time": "2025-07-08T07:30:36.626709Z",
     "start_time": "2025-07-08T07:30:36.624168Z"
    }
   },
   "cell_type": "code",
   "source": [
    "# sets\n",
    "print({1,2,1,3,4})"
   ],
   "id": "1e6880748e184136",
   "outputs": [
    {
     "name": "stdout",
     "output_type": "stream",
     "text": [
      "{1, 2, 3, 4}\n"
     ]
    }
   ],
   "execution_count": 23
  },
  {
   "metadata": {
    "ExecuteTime": {
     "end_time": "2025-07-08T07:31:29.409900Z",
     "start_time": "2025-07-08T07:31:29.407373Z"
    }
   },
   "cell_type": "code",
   "source": [
    "# Dictionary\n",
    "print({\"name\": \"Shreyans\", \"gender\": 'male'})"
   ],
   "id": "94e958a38b26cc0d",
   "outputs": [
    {
     "name": "stdout",
     "output_type": "stream",
     "text": [
      "{'name': 'Shreyans', 'gender': 'male'}\n"
     ]
    }
   ],
   "execution_count": 25
  },
  {
   "metadata": {
    "ExecuteTime": {
     "end_time": "2025-07-08T07:35:08.382289Z",
     "start_time": "2025-07-08T07:35:08.372375Z"
    }
   },
   "cell_type": "code",
   "source": [
    "# type function\n",
    "print(type(3))\n",
    "print(type([1,2,3]))"
   ],
   "id": "7f2d291e5eb179e2",
   "outputs": [
    {
     "name": "stdout",
     "output_type": "stream",
     "text": [
      "<class 'int'>\n",
      "<class 'list'>\n"
     ]
    }
   ],
   "execution_count": 33
  },
  {
   "metadata": {},
   "cell_type": "markdown",
   "source": "## Variables",
   "id": "14b6b82439fd721b"
  },
  {
   "metadata": {
    "ExecuteTime": {
     "end_time": "2025-07-08T07:36:21.511154Z",
     "start_time": "2025-07-08T07:36:21.508433Z"
    }
   },
   "cell_type": "code",
   "source": [
    "name = \"Jupyter\"\n",
    "print(name)"
   ],
   "id": "d81f975b96774f41",
   "outputs": [
    {
     "name": "stdout",
     "output_type": "stream",
     "text": [
      "Jupyter\n"
     ]
    }
   ],
   "execution_count": 35
  },
  {
   "metadata": {},
   "cell_type": "markdown",
   "source": "## Dynamic Typing",
   "id": "a50d9e87b17e7286"
  },
  {
   "metadata": {
    "ExecuteTime": {
     "end_time": "2025-07-08T07:37:37.079971Z",
     "start_time": "2025-07-08T07:37:37.074376Z"
    }
   },
   "cell_type": "code",
   "source": "a = 5 # dynamic typing as we don't tell about type",
   "id": "c01d3c2c54b9774",
   "outputs": [],
   "execution_count": 37
  },
  {
   "metadata": {},
   "cell_type": "markdown",
   "source": [
    "CPP or other language has static typing\n",
    "int a = 5"
   ],
   "id": "417ae43fcf440f83"
  },
  {
   "metadata": {},
   "cell_type": "markdown",
   "source": "## Dynamic Binding",
   "id": "b09cb145645b7687"
  },
  {
   "metadata": {
    "ExecuteTime": {
     "end_time": "2025-07-08T07:38:56.464469Z",
     "start_time": "2025-07-08T07:38:56.461441Z"
    }
   },
   "cell_type": "code",
   "source": [
    "a = 5\n",
    "a = 'shreyans'  # can change data type of var \n",
    "print(a)"
   ],
   "id": "db8bec0f689bc60b",
   "outputs": [
    {
     "name": "stdout",
     "output_type": "stream",
     "text": [
      "shreyans\n"
     ]
    }
   ],
   "execution_count": 39
  },
  {
   "metadata": {},
   "cell_type": "markdown",
   "source": [
    "static binding in other language\n",
    "int a = 5\n",
    "a = \"shreyans\" can't do in java, cpp etc"
   ],
   "id": "25ff6214e44ae358"
  },
  {
   "metadata": {
    "ExecuteTime": {
     "end_time": "2025-07-08T07:40:28.866243Z",
     "start_time": "2025-07-08T07:40:28.859739Z"
    }
   },
   "cell_type": "code",
   "source": [
    "a,b,c = 1,2,3\n",
    "print(a, b, c)"
   ],
   "id": "d11ecc3154142c42",
   "outputs": [
    {
     "name": "stdout",
     "output_type": "stream",
     "text": [
      "1 2 3\n"
     ]
    }
   ],
   "execution_count": 42
  },
  {
   "metadata": {
    "ExecuteTime": {
     "end_time": "2025-07-08T07:40:29.613693Z",
     "start_time": "2025-07-08T07:40:29.609853Z"
    }
   },
   "cell_type": "code",
   "source": [
    "a = b = c = 5\n",
    "print(a, b, c)"
   ],
   "id": "a85bc17ffc3a7fed",
   "outputs": [
    {
     "name": "stdout",
     "output_type": "stream",
     "text": [
      "5 5 5\n"
     ]
    }
   ],
   "execution_count": 43
  },
  {
   "metadata": {},
   "cell_type": "markdown",
   "source": "## Keywords & Identifiers",
   "id": "e8be2128b64b0e44"
  },
  {
   "metadata": {
    "ExecuteTime": {
     "end_time": "2025-07-08T07:51:30.253053Z",
     "start_time": "2025-07-08T07:51:30.247809Z"
    }
   },
   "cell_type": "code",
   "source": [
    "# Keywords\n",
    "# None , and , or, elif, else, except, finally, raise, if, global\n",
    "# and many more -> should not use for variable name"
   ],
   "id": "e330b93b3e138115",
   "outputs": [],
   "execution_count": 45
  },
  {
   "metadata": {
    "ExecuteTime": {
     "end_time": "2025-07-08T07:54:30.209841Z",
     "start_time": "2025-07-08T07:54:30.202347Z"
    }
   },
   "cell_type": "code",
   "source": [
    "# identifiers\n",
    "1name = \"shreyans\"  # can't start name with digit"
   ],
   "id": "4ef7599b6a09154e",
   "outputs": [
    {
     "ename": "SyntaxError",
     "evalue": "invalid decimal literal (1044805196.py, line 2)",
     "output_type": "error",
     "traceback": [
      "  \u001B[36mCell\u001B[39m\u001B[36m \u001B[39m\u001B[32mIn[47]\u001B[39m\u001B[32m, line 2\u001B[39m\n\u001B[31m    \u001B[39m\u001B[31m1name = \"shreyans\"  # can't start name with digit\u001B[39m\n    ^\n\u001B[31mSyntaxError\u001B[39m\u001B[31m:\u001B[39m invalid decimal literal\n"
     ]
    }
   ],
   "execution_count": 47
  },
  {
   "metadata": {
    "ExecuteTime": {
     "end_time": "2025-07-08T07:54:31.289495Z",
     "start_time": "2025-07-08T07:54:31.286808Z"
    }
   },
   "cell_type": "code",
   "source": "name1 = \"shreyans\"",
   "id": "89a42e94cfdef680",
   "outputs": [],
   "execution_count": 48
  },
  {
   "metadata": {
    "ExecuteTime": {
     "end_time": "2025-07-08T07:54:58.210976Z",
     "start_time": "2025-07-08T07:54:58.205157Z"
    }
   },
   "cell_type": "code",
   "source": [
    "# only underscore allowed in var\n",
    "name_1 = \"shreyans\""
   ],
   "id": "d3c71538ee3cf834",
   "outputs": [],
   "execution_count": 49
  },
  {
   "metadata": {
    "ExecuteTime": {
     "end_time": "2025-07-08T07:55:03.254016Z",
     "start_time": "2025-07-08T07:55:03.249819Z"
    }
   },
   "cell_type": "code",
   "source": "name-1 = \"shreyans\"",
   "id": "fed862d67d34532a",
   "outputs": [
    {
     "ename": "SyntaxError",
     "evalue": "cannot assign to expression here. Maybe you meant '==' instead of '='? (919222702.py, line 1)",
     "output_type": "error",
     "traceback": [
      "  \u001B[36mCell\u001B[39m\u001B[36m \u001B[39m\u001B[32mIn[50]\u001B[39m\u001B[32m, line 1\u001B[39m\n\u001B[31m    \u001B[39m\u001B[31mname-1 = \"shreyans\"\u001B[39m\n    ^\n\u001B[31mSyntaxError\u001B[39m\u001B[31m:\u001B[39m cannot assign to expression here. Maybe you meant '==' instead of '='?\n"
     ]
    }
   ],
   "execution_count": 50
  },
  {
   "metadata": {
    "ExecuteTime": {
     "end_time": "2025-07-08T07:55:21.714092Z",
     "start_time": "2025-07-08T07:55:21.707838Z"
    }
   },
   "cell_type": "code",
   "source": [
    "_ = \"shreyans\"\n",
    "print(_)"
   ],
   "id": "25816c71f40ad052",
   "outputs": [
    {
     "name": "stdout",
     "output_type": "stream",
     "text": [
      "shreyans\n"
     ]
    }
   ],
   "execution_count": 51
  },
  {
   "metadata": {},
   "cell_type": "markdown",
   "source": "## User Input",
   "id": "9b6b814a8bf6ad9"
  },
  {
   "metadata": {
    "ExecuteTime": {
     "end_time": "2025-07-08T07:56:26.708770Z",
     "start_time": "2025-07-08T07:56:24.234916Z"
    }
   },
   "cell_type": "code",
   "source": [
    "x = input()\n",
    "print(x)"
   ],
   "id": "36c988a24136e3ee",
   "outputs": [
    {
     "name": "stdout",
     "output_type": "stream",
     "text": [
      "4\n"
     ]
    }
   ],
   "execution_count": 52
  },
  {
   "metadata": {
    "ExecuteTime": {
     "end_time": "2025-07-08T07:57:05.219493Z",
     "start_time": "2025-07-08T07:57:02.543247Z"
    }
   },
   "cell_type": "code",
   "source": [
    "x = input(\"First Name:\")\n",
    "print(x)"
   ],
   "id": "19f54ae188fc80a4",
   "outputs": [
    {
     "name": "stdout",
     "output_type": "stream",
     "text": [
      "Shreyans\n"
     ]
    }
   ],
   "execution_count": 53
  },
  {
   "metadata": {
    "ExecuteTime": {
     "end_time": "2025-07-08T07:59:01.793703Z",
     "start_time": "2025-07-08T07:58:57.032982Z"
    }
   },
   "cell_type": "code",
   "source": [
    "# SUM calculator\n",
    "num1 = input(\"enter first number:\") # 2\n",
    "num2 = input(\"enter second number:\") # 4\n",
    "result = num1 + num2\n",
    "print(result)"
   ],
   "id": "ff56864a0040df20",
   "outputs": [
    {
     "name": "stdout",
     "output_type": "stream",
     "text": [
      "24\n"
     ]
    }
   ],
   "execution_count": 54
  },
  {
   "metadata": {},
   "cell_type": "markdown",
   "source": "By-default it takes as string as it is a universal format and concat it ",
   "id": "981a74e1bd9a670d"
  },
  {
   "metadata": {},
   "cell_type": "markdown",
   "source": "## Type conversion",
   "id": "37de3c7ac29b5a53"
  },
  {
   "metadata": {
    "ExecuteTime": {
     "end_time": "2025-07-08T08:00:37.260535Z",
     "start_time": "2025-07-08T08:00:34.858250Z"
    }
   },
   "cell_type": "code",
   "source": [
    "# SUM calculator\n",
    "num1 = int(input(\"enter first number:\")) # 2\n",
    "num2 = int(input(\"enter second number:\")) # 4\n",
    "result = num1 + num2\n",
    "print(result)"
   ],
   "id": "dbd840141162e688",
   "outputs": [
    {
     "name": "stdout",
     "output_type": "stream",
     "text": [
      "6\n"
     ]
    }
   ],
   "execution_count": 55
  },
  {
   "metadata": {
    "ExecuteTime": {
     "end_time": "2025-07-08T08:04:40.690722Z",
     "start_time": "2025-07-08T08:04:40.687911Z"
    }
   },
   "cell_type": "code",
   "source": [
    "# implicit type conversion\n",
    "# Happens safely, without data loss.\n",
    "# Mostly occurs with numeric types (int → float, etc.).\n",
    "print(4+ 4.5)"
   ],
   "id": "97b37581fa7ad749",
   "outputs": [
    {
     "name": "stdout",
     "output_type": "stream",
     "text": [
      "8.5\n"
     ]
    }
   ],
   "execution_count": 57
  },
  {
   "metadata": {
    "ExecuteTime": {
     "end_time": "2025-07-08T08:04:57.915537Z",
     "start_time": "2025-07-08T08:04:57.891258Z"
    }
   },
   "cell_type": "code",
   "source": [
    "# explicit type conversion\n",
    "print(2 + '2') "
   ],
   "id": "63332fe15c5a15e4",
   "outputs": [
    {
     "ename": "TypeError",
     "evalue": "unsupported operand type(s) for +: 'int' and 'str'",
     "output_type": "error",
     "traceback": [
      "\u001B[31m---------------------------------------------------------------------------\u001B[39m",
      "\u001B[31mTypeError\u001B[39m                                 Traceback (most recent call last)",
      "\u001B[36mCell\u001B[39m\u001B[36m \u001B[39m\u001B[32mIn[58]\u001B[39m\u001B[32m, line 2\u001B[39m\n\u001B[32m      1\u001B[39m \u001B[38;5;66;03m# explicit type conversion\u001B[39;00m\n\u001B[32m----> \u001B[39m\u001B[32m2\u001B[39m \u001B[38;5;28mprint\u001B[39m(\u001B[32m2\u001B[39m + \u001B[33m'\u001B[39m\u001B[33m2\u001B[39m\u001B[33m'\u001B[39m)\n",
      "\u001B[31mTypeError\u001B[39m: unsupported operand type(s) for +: 'int' and 'str'"
     ]
    }
   ],
   "execution_count": 58
  },
  {
   "metadata": {
    "ExecuteTime": {
     "end_time": "2025-07-08T08:06:12.545199Z",
     "start_time": "2025-07-08T08:06:12.536784Z"
    }
   },
   "cell_type": "code",
   "source": "print(2 + int('2'))",
   "id": "c54ca4fceb9aae38",
   "outputs": [
    {
     "name": "stdout",
     "output_type": "stream",
     "text": [
      "4\n"
     ]
    }
   ],
   "execution_count": 59
  },
  {
   "metadata": {},
   "cell_type": "markdown",
   "source": "## Literals",
   "id": "62622b701360e398"
  },
  {
   "metadata": {
    "ExecuteTime": {
     "end_time": "2025-07-08T08:11:23.159606Z",
     "start_time": "2025-07-08T08:11:23.147615Z"
    }
   },
   "cell_type": "code",
   "source": [
    "a = 2\n",
    "# a is var, = is operator , 2 is literal"
   ],
   "id": "3f47f5f0ae18a4b3",
   "outputs": [],
   "execution_count": 60
  },
  {
   "metadata": {
    "ExecuteTime": {
     "end_time": "2025-07-08T08:11:46.152754Z",
     "start_time": "2025-07-08T08:11:46.148738Z"
    }
   },
   "cell_type": "code",
   "source": [
    "a = 0b1010 # binary literal\n",
    "print(a)"
   ],
   "id": "da8a852d8d8c9707",
   "outputs": [
    {
     "name": "stdout",
     "output_type": "stream",
     "text": [
      "10\n"
     ]
    }
   ],
   "execution_count": 61
  },
  {
   "metadata": {
    "ExecuteTime": {
     "end_time": "2025-07-08T08:12:06.642175Z",
     "start_time": "2025-07-08T08:12:06.632928Z"
    }
   },
   "cell_type": "code",
   "source": [
    "b = 0b10 \n",
    "print(b)"
   ],
   "id": "d0b2559a3c6c402b",
   "outputs": [
    {
     "name": "stdout",
     "output_type": "stream",
     "text": [
      "2\n"
     ]
    }
   ],
   "execution_count": 62
  },
  {
   "metadata": {
    "ExecuteTime": {
     "end_time": "2025-07-08T08:12:45.156009Z",
     "start_time": "2025-07-08T08:12:45.152232Z"
    }
   },
   "cell_type": "code",
   "source": [
    "c = 0o310 # octal literal\n",
    "d = 0x12c # hexadecimal literal\n",
    "print(c, d)"
   ],
   "id": "c3e95f8dfeb92de8",
   "outputs": [
    {
     "name": "stdout",
     "output_type": "stream",
     "text": [
      "200 300\n"
     ]
    }
   ],
   "execution_count": 63
  },
  {
   "metadata": {
    "ExecuteTime": {
     "end_time": "2025-07-08T08:15:56.699121Z",
     "start_time": "2025-07-08T08:15:56.690086Z"
    }
   },
   "cell_type": "code",
   "source": [
    "x = 2+4j\n",
    "print(x.real, x.imag)"
   ],
   "id": "5b94bb9c353c9835",
   "outputs": [
    {
     "name": "stdout",
     "output_type": "stream",
     "text": [
      "2.0 4.0\n"
     ]
    }
   ],
   "execution_count": 64
  },
  {
   "metadata": {
    "ExecuteTime": {
     "end_time": "2025-07-08T08:16:58.700792Z",
     "start_time": "2025-07-08T08:16:58.695567Z"
    }
   },
   "cell_type": "code",
   "source": [
    "str = 'shrey'\n",
    "str = \"shrey\"\n",
    "str = \"\"\"shrey\n",
    "    hi\n",
    "\"\"\" # multiline string \n",
    "print(str)"
   ],
   "id": "acd14d68c66bbdc9",
   "outputs": [
    {
     "name": "stdout",
     "output_type": "stream",
     "text": [
      "shrey\n",
      "    hi\n",
      "\n"
     ]
    }
   ],
   "execution_count": 65
  },
  {
   "metadata": {
    "ExecuteTime": {
     "end_time": "2025-07-08T08:18:15.616422Z",
     "start_time": "2025-07-08T08:18:15.607321Z"
    }
   },
   "cell_type": "code",
   "source": [
    "# raw string\n",
    "print(\"raw \\n string\")\n",
    "print(r\"raw1 \\n string1\")"
   ],
   "id": "64c742c14187d081",
   "outputs": [
    {
     "name": "stdout",
     "output_type": "stream",
     "text": [
      "raw \n",
      " string\n",
      "raw1 \\n string1\n"
     ]
    }
   ],
   "execution_count": 69
  },
  {
   "metadata": {
    "ExecuteTime": {
     "end_time": "2025-07-08T08:18:43.515054Z",
     "start_time": "2025-07-08T08:18:43.510544Z"
    }
   },
   "cell_type": "code",
   "source": [
    "a = True + 10\n",
    "b = False + 3\n",
    "print(a, b)"
   ],
   "id": "e823bd558bcb2f06",
   "outputs": [
    {
     "name": "stdout",
     "output_type": "stream",
     "text": [
      "11 3\n"
     ]
    }
   ],
   "execution_count": 70
  },
  {
   "metadata": {
    "ExecuteTime": {
     "end_time": "2025-07-08T08:19:11.005279Z",
     "start_time": "2025-07-08T08:19:11.001048Z"
    }
   },
   "cell_type": "code",
   "source": [
    "a = None\n",
    "print(a, type(a))"
   ],
   "id": "2053900fe9a07eb8",
   "outputs": [
    {
     "name": "stdout",
     "output_type": "stream",
     "text": [
      "None <class 'NoneType'>\n"
     ]
    }
   ],
   "execution_count": 71
  }
 ],
 "metadata": {
  "kernelspec": {
   "display_name": "Python 3",
   "language": "python",
   "name": "python3"
  },
  "language_info": {
   "codemirror_mode": {
    "name": "ipython",
    "version": 2
   },
   "file_extension": ".py",
   "mimetype": "text/x-python",
   "name": "python",
   "nbconvert_exporter": "python",
   "pygments_lexer": "ipython2",
   "version": "2.7.6"
  }
 },
 "nbformat": 4,
 "nbformat_minor": 5
}
