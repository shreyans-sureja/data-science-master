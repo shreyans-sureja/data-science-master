{
 "cells": [
  {
   "cell_type": "code",
   "id": "initial_id",
   "metadata": {
    "collapsed": true,
    "ExecuteTime": {
     "end_time": "2025-07-13T06:15:04.790252Z",
     "start_time": "2025-07-13T06:15:04.787921Z"
    }
   },
   "source": "print(\"Hello world!\")",
   "outputs": [
    {
     "name": "stdout",
     "output_type": "stream",
     "text": [
      "Hello world!\n"
     ]
    }
   ],
   "execution_count": 96
  },
  {
   "metadata": {
    "ExecuteTime": {
     "end_time": "2025-07-13T06:15:04.827064Z",
     "start_time": "2025-07-13T06:15:04.824817Z"
    }
   },
   "cell_type": "code",
   "source": [
    "a = [1,[2,4],3]\n",
    "\n",
    "a[1] = [a[1], 5, 8]\n",
    "print(a)"
   ],
   "id": "25987174eca26ba7",
   "outputs": [
    {
     "name": "stdout",
     "output_type": "stream",
     "text": [
      "[1, [[2, 4], 5, 8], 3]\n"
     ]
    }
   ],
   "execution_count": 97
  },
  {
   "metadata": {},
   "cell_type": "markdown",
   "source": [
    "python list is different from other language, it can contain different datatype values inside unlike cpp, java\n",
    "\n",
    "it's more like referential array"
   ],
   "id": "f56466f29c7ffd4f"
  },
  {
   "metadata": {
    "ExecuteTime": {
     "end_time": "2025-07-13T06:15:04.847317Z",
     "start_time": "2025-07-13T06:15:04.843939Z"
    }
   },
   "cell_type": "code",
   "source": [
    "# type conversion with list\n",
    "print(list(\"Hello\"))"
   ],
   "id": "fe723553ae2d794d",
   "outputs": [
    {
     "name": "stdout",
     "output_type": "stream",
     "text": [
      "['H', 'e', 'l', 'l', 'o']\n"
     ]
    }
   ],
   "execution_count": 98
  },
  {
   "metadata": {
    "ExecuteTime": {
     "end_time": "2025-07-13T06:15:04.851529Z",
     "start_time": "2025-07-13T06:15:04.849010Z"
    }
   },
   "cell_type": "code",
   "source": [
    "# indexing and slicing \n",
    "a = [1,2,3,4,5]\n",
    "print(a[0])\n",
    "print(a[-2])"
   ],
   "id": "9f0f6833877eb646",
   "outputs": [
    {
     "name": "stdout",
     "output_type": "stream",
     "text": [
      "1\n",
      "4\n"
     ]
    }
   ],
   "execution_count": 99
  },
  {
   "metadata": {
    "ExecuteTime": {
     "end_time": "2025-07-13T06:15:04.861085Z",
     "start_time": "2025-07-13T06:15:04.859073Z"
    }
   },
   "cell_type": "code",
   "source": "print(a[0:3])",
   "id": "d9451ee78541d9e5",
   "outputs": [
    {
     "name": "stdout",
     "output_type": "stream",
     "text": [
      "[1, 2, 3]\n"
     ]
    }
   ],
   "execution_count": 100
  },
  {
   "metadata": {
    "ExecuteTime": {
     "end_time": "2025-07-13T06:15:04.870153Z",
     "start_time": "2025-07-13T06:15:04.868274Z"
    }
   },
   "cell_type": "code",
   "source": "print(a[-5:])",
   "id": "922dacb8b6a50ff1",
   "outputs": [
    {
     "name": "stdout",
     "output_type": "stream",
     "text": [
      "[1, 2, 3, 4, 5]\n"
     ]
    }
   ],
   "execution_count": 101
  },
  {
   "metadata": {
    "ExecuteTime": {
     "end_time": "2025-07-13T06:15:04.881873Z",
     "start_time": "2025-07-13T06:15:04.879929Z"
    }
   },
   "cell_type": "code",
   "source": "print(a[0::2])",
   "id": "eb4df0ded3f28671",
   "outputs": [
    {
     "name": "stdout",
     "output_type": "stream",
     "text": [
      "[1, 3, 5]\n"
     ]
    }
   ],
   "execution_count": 102
  },
  {
   "metadata": {
    "ExecuteTime": {
     "end_time": "2025-07-13T06:15:04.894724Z",
     "start_time": "2025-07-13T06:15:04.892501Z"
    }
   },
   "cell_type": "code",
   "source": [
    "a.append(6)\n",
    "print(a)"
   ],
   "id": "a8ea70276f1442d4",
   "outputs": [
    {
     "name": "stdout",
     "output_type": "stream",
     "text": [
      "[1, 2, 3, 4, 5, 6]\n"
     ]
    }
   ],
   "execution_count": 103
  },
  {
   "metadata": {
    "ExecuteTime": {
     "end_time": "2025-07-13T06:15:04.897482Z",
     "start_time": "2025-07-13T06:15:04.895683Z"
    }
   },
   "cell_type": "code",
   "source": [
    "a.extend([7,8,9,10])   # to add multiple items\n",
    "print(a)"
   ],
   "id": "86e88b4563adf7b1",
   "outputs": [
    {
     "name": "stdout",
     "output_type": "stream",
     "text": [
      "[1, 2, 3, 4, 5, 6, 7, 8, 9, 10]\n"
     ]
    }
   ],
   "execution_count": 104
  },
  {
   "metadata": {
    "ExecuteTime": {
     "end_time": "2025-07-13T06:15:04.905081Z",
     "start_time": "2025-07-13T06:15:04.903195Z"
    }
   },
   "cell_type": "code",
   "source": [
    "a.append([1,4])\n",
    "print(a)"
   ],
   "id": "ff3132fc1013b777",
   "outputs": [
    {
     "name": "stdout",
     "output_type": "stream",
     "text": [
      "[1, 2, 3, 4, 5, 6, 7, 8, 9, 10, [1, 4]]\n"
     ]
    }
   ],
   "execution_count": 105
  },
  {
   "metadata": {
    "ExecuteTime": {
     "end_time": "2025-07-13T06:15:04.920579Z",
     "start_time": "2025-07-13T06:15:04.918791Z"
    }
   },
   "cell_type": "code",
   "source": [
    "a.extend('delhi')\n",
    "print(a)"
   ],
   "id": "77b97b1e39756543",
   "outputs": [
    {
     "name": "stdout",
     "output_type": "stream",
     "text": [
      "[1, 2, 3, 4, 5, 6, 7, 8, 9, 10, [1, 4], 'd', 'e', 'l', 'h', 'i']\n"
     ]
    }
   ],
   "execution_count": 106
  },
  {
   "metadata": {
    "ExecuteTime": {
     "end_time": "2025-07-13T06:15:04.928264Z",
     "start_time": "2025-07-13T06:15:04.926393Z"
    }
   },
   "cell_type": "code",
   "source": [
    "# insert index, value\n",
    "a.insert(0, 23)\n",
    "print(a)"
   ],
   "id": "daf1c990ccff9221",
   "outputs": [
    {
     "name": "stdout",
     "output_type": "stream",
     "text": [
      "[23, 1, 2, 3, 4, 5, 6, 7, 8, 9, 10, [1, 4], 'd', 'e', 'l', 'h', 'i']\n"
     ]
    }
   ],
   "execution_count": 107
  },
  {
   "metadata": {
    "ExecuteTime": {
     "end_time": "2025-07-13T06:15:04.931222Z",
     "start_time": "2025-07-13T06:15:04.929791Z"
    }
   },
   "cell_type": "code",
   "source": "a.insert(-1, 34)",
   "id": "ce6e94378aa08589",
   "outputs": [],
   "execution_count": 108
  },
  {
   "metadata": {
    "ExecuteTime": {
     "end_time": "2025-07-13T06:15:04.939579Z",
     "start_time": "2025-07-13T06:15:04.937772Z"
    }
   },
   "cell_type": "code",
   "source": "print(a)",
   "id": "531bdf9e7972cea6",
   "outputs": [
    {
     "name": "stdout",
     "output_type": "stream",
     "text": [
      "[23, 1, 2, 3, 4, 5, 6, 7, 8, 9, 10, [1, 4], 'd', 'e', 'l', 'h', 34, 'i']\n"
     ]
    }
   ],
   "execution_count": 109
  },
  {
   "metadata": {
    "ExecuteTime": {
     "end_time": "2025-07-13T06:15:04.944809Z",
     "start_time": "2025-07-13T06:15:04.940811Z"
    }
   },
   "cell_type": "code",
   "source": [
    "a.insert(2,'eer')\n",
    "print(a)"
   ],
   "id": "cf9ea449ba40f913",
   "outputs": [
    {
     "name": "stdout",
     "output_type": "stream",
     "text": [
      "[23, 1, 'eer', 2, 3, 4, 5, 6, 7, 8, 9, 10, [1, 4], 'd', 'e', 'l', 'h', 34, 'i']\n"
     ]
    }
   ],
   "execution_count": 110
  },
  {
   "metadata": {
    "ExecuteTime": {
     "end_time": "2025-07-13T06:15:04.959200Z",
     "start_time": "2025-07-13T06:15:04.957154Z"
    }
   },
   "cell_type": "code",
   "source": [
    "# edit items in list\n",
    "a[0] = 'first'\n",
    "print(a)"
   ],
   "id": "7115daa5ff0174b1",
   "outputs": [
    {
     "name": "stdout",
     "output_type": "stream",
     "text": [
      "['first', 1, 'eer', 2, 3, 4, 5, 6, 7, 8, 9, 10, [1, 4], 'd', 'e', 'l', 'h', 34, 'i']\n"
     ]
    }
   ],
   "execution_count": 111
  },
  {
   "metadata": {
    "ExecuteTime": {
     "end_time": "2025-07-13T06:15:04.962916Z",
     "start_time": "2025-07-13T06:15:04.960603Z"
    }
   },
   "cell_type": "code",
   "source": [
    "# editing with slicing\n",
    "a[0:2] = [1,2]\n",
    "print(a)"
   ],
   "id": "eb8b44ebc76f4f29",
   "outputs": [
    {
     "name": "stdout",
     "output_type": "stream",
     "text": [
      "[1, 2, 'eer', 2, 3, 4, 5, 6, 7, 8, 9, 10, [1, 4], 'd', 'e', 'l', 'h', 34, 'i']\n"
     ]
    }
   ],
   "execution_count": 112
  },
  {
   "metadata": {
    "ExecuteTime": {
     "end_time": "2025-07-13T06:15:04.973436Z",
     "start_time": "2025-07-13T06:15:04.970257Z"
    }
   },
   "cell_type": "code",
   "source": [
    "# del\n",
    "del a[0]\n",
    "print(a)"
   ],
   "id": "7ff247bd261b91e8",
   "outputs": [
    {
     "name": "stdout",
     "output_type": "stream",
     "text": [
      "[2, 'eer', 2, 3, 4, 5, 6, 7, 8, 9, 10, [1, 4], 'd', 'e', 'l', 'h', 34, 'i']\n"
     ]
    }
   ],
   "execution_count": 113
  },
  {
   "metadata": {
    "ExecuteTime": {
     "end_time": "2025-07-13T06:15:04.980246Z",
     "start_time": "2025-07-13T06:15:04.977940Z"
    }
   },
   "cell_type": "code",
   "source": [
    "# del a\n",
    "# print(a)"
   ],
   "id": "c3acf764aebcfe5c",
   "outputs": [],
   "execution_count": 114
  },
  {
   "metadata": {
    "ExecuteTime": {
     "end_time": "2025-07-13T06:15:04.997795Z",
     "start_time": "2025-07-13T06:15:04.995096Z"
    }
   },
   "cell_type": "code",
   "source": [
    "a = [2, 'eer', 2, 3, 4, 5, 6, 7, 8, 9, 10, [1, 4], 'd', 'e', 'l', 'h', 34, 'i']\n",
    "print(a)\n",
    "del a[0:1]\n",
    "print(a)\n"
   ],
   "id": "3f1e8f115ee60d67",
   "outputs": [
    {
     "name": "stdout",
     "output_type": "stream",
     "text": [
      "[2, 'eer', 2, 3, 4, 5, 6, 7, 8, 9, 10, [1, 4], 'd', 'e', 'l', 'h', 34, 'i']\n",
      "['eer', 2, 3, 4, 5, 6, 7, 8, 9, 10, [1, 4], 'd', 'e', 'l', 'h', 34, 'i']\n"
     ]
    }
   ],
   "execution_count": 115
  },
  {
   "metadata": {
    "ExecuteTime": {
     "end_time": "2025-07-13T06:15:05.012301Z",
     "start_time": "2025-07-13T06:15:05.010232Z"
    }
   },
   "cell_type": "code",
   "source": [
    "del a[0:]\n",
    "print(a)"
   ],
   "id": "8190be0e7a4c3d01",
   "outputs": [
    {
     "name": "stdout",
     "output_type": "stream",
     "text": [
      "[]\n"
     ]
    }
   ],
   "execution_count": 116
  },
  {
   "metadata": {
    "ExecuteTime": {
     "end_time": "2025-07-13T06:15:05.016740Z",
     "start_time": "2025-07-13T06:15:05.014378Z"
    }
   },
   "cell_type": "code",
   "source": [
    "# remove by value\n",
    "a = [2, 'eer', 2, 3, 4, 5, 6, 7, 8, 9, 10, [1, 4], 'd', 'e', 'l', 'h', 34, 'i']\n",
    "a.remove(4)\n",
    "print(a)"
   ],
   "id": "41fe595df2ed4771",
   "outputs": [
    {
     "name": "stdout",
     "output_type": "stream",
     "text": [
      "[2, 'eer', 2, 3, 5, 6, 7, 8, 9, 10, [1, 4], 'd', 'e', 'l', 'h', 34, 'i']\n"
     ]
    }
   ],
   "execution_count": 117
  },
  {
   "metadata": {
    "ExecuteTime": {
     "end_time": "2025-07-13T06:15:05.025175Z",
     "start_time": "2025-07-13T06:15:05.022840Z"
    }
   },
   "cell_type": "code",
   "source": [
    "a.remove(2)\n",
    "print(a)"
   ],
   "id": "ce579aa5b11aee90",
   "outputs": [
    {
     "name": "stdout",
     "output_type": "stream",
     "text": [
      "['eer', 2, 3, 5, 6, 7, 8, 9, 10, [1, 4], 'd', 'e', 'l', 'h', 34, 'i']\n"
     ]
    }
   ],
   "execution_count": 118
  },
  {
   "metadata": {
    "ExecuteTime": {
     "end_time": "2025-07-13T06:15:05.039028Z",
     "start_time": "2025-07-13T06:15:05.037271Z"
    }
   },
   "cell_type": "code",
   "source": "# removing first occurrence only",
   "id": "24a84f4a63212c0a",
   "outputs": [],
   "execution_count": 119
  },
  {
   "metadata": {
    "ExecuteTime": {
     "end_time": "2025-07-13T06:15:05.047501Z",
     "start_time": "2025-07-13T06:15:05.045369Z"
    }
   },
   "cell_type": "code",
   "source": [
    "# pop -> delete last item\n",
    "print(a)\n",
    "a.pop()\n",
    "print(a)"
   ],
   "id": "cb9d98f166fc84fe",
   "outputs": [
    {
     "name": "stdout",
     "output_type": "stream",
     "text": [
      "['eer', 2, 3, 5, 6, 7, 8, 9, 10, [1, 4], 'd', 'e', 'l', 'h', 34, 'i']\n",
      "['eer', 2, 3, 5, 6, 7, 8, 9, 10, [1, 4], 'd', 'e', 'l', 'h', 34]\n"
     ]
    }
   ],
   "execution_count": 120
  },
  {
   "metadata": {
    "ExecuteTime": {
     "end_time": "2025-07-13T06:15:05.050513Z",
     "start_time": "2025-07-13T06:15:05.048806Z"
    }
   },
   "cell_type": "code",
   "source": [
    "print(a)\n",
    "x = a.pop(-2)\n",
    "print(x)\n",
    "print(a)"
   ],
   "id": "533ed737269dadd4",
   "outputs": [
    {
     "name": "stdout",
     "output_type": "stream",
     "text": [
      "['eer', 2, 3, 5, 6, 7, 8, 9, 10, [1, 4], 'd', 'e', 'l', 'h', 34]\n",
      "h\n",
      "['eer', 2, 3, 5, 6, 7, 8, 9, 10, [1, 4], 'd', 'e', 'l', 34]\n"
     ]
    }
   ],
   "execution_count": 121
  },
  {
   "metadata": {
    "ExecuteTime": {
     "end_time": "2025-07-13T06:15:05.057308Z",
     "start_time": "2025-07-13T06:15:05.055476Z"
    }
   },
   "cell_type": "code",
   "source": [
    "print(a)\n",
    "a.clear()\n",
    "print(a)"
   ],
   "id": "9149daaee5b53224",
   "outputs": [
    {
     "name": "stdout",
     "output_type": "stream",
     "text": [
      "['eer', 2, 3, 5, 6, 7, 8, 9, 10, [1, 4], 'd', 'e', 'l', 34]\n",
      "[]\n"
     ]
    }
   ],
   "execution_count": 122
  },
  {
   "metadata": {
    "ExecuteTime": {
     "end_time": "2025-07-13T06:15:05.062165Z",
     "start_time": "2025-07-13T06:15:05.059733Z"
    }
   },
   "cell_type": "code",
   "source": [
    "a = [1,2,3,4]\n",
    "b = [5,6,7,8]\n",
    "print(a+b)  # merge"
   ],
   "id": "ca4bc1f0cec28a98",
   "outputs": [
    {
     "name": "stdout",
     "output_type": "stream",
     "text": [
      "[1, 2, 3, 4, 5, 6, 7, 8]\n"
     ]
    }
   ],
   "execution_count": 123
  },
  {
   "metadata": {
    "ExecuteTime": {
     "end_time": "2025-07-13T06:15:05.081219Z",
     "start_time": "2025-07-13T06:15:05.079113Z"
    }
   },
   "cell_type": "code",
   "source": "print(a * 3) # self merge n-1 times",
   "id": "4508a4cddac16316",
   "outputs": [
    {
     "name": "stdout",
     "output_type": "stream",
     "text": [
      "[1, 2, 3, 4, 1, 2, 3, 4, 1, 2, 3, 4]\n"
     ]
    }
   ],
   "execution_count": 124
  },
  {
   "metadata": {
    "ExecuteTime": {
     "end_time": "2025-07-13T06:15:05.094747Z",
     "start_time": "2025-07-13T06:15:05.092027Z"
    }
   },
   "cell_type": "code",
   "source": [
    "print(1 in a)\n",
    "print([3,] not in a)"
   ],
   "id": "4255e8a111156bca",
   "outputs": [
    {
     "name": "stdout",
     "output_type": "stream",
     "text": [
      "True\n",
      "True\n"
     ]
    }
   ],
   "execution_count": 125
  },
  {
   "metadata": {
    "ExecuteTime": {
     "end_time": "2025-07-13T06:15:05.103864Z",
     "start_time": "2025-07-13T06:15:05.101494Z"
    }
   },
   "cell_type": "code",
   "source": "print(a)",
   "id": "3b0c5061701b1657",
   "outputs": [
    {
     "name": "stdout",
     "output_type": "stream",
     "text": [
      "[1, 2, 3, 4]\n"
     ]
    }
   ],
   "execution_count": 126
  },
  {
   "metadata": {
    "ExecuteTime": {
     "end_time": "2025-07-13T06:15:05.121508Z",
     "start_time": "2025-07-13T06:15:05.117365Z"
    }
   },
   "cell_type": "code",
   "source": [
    "print(sorted(a, reverse=True)) # not updated a\n",
    "print(a)\n",
    "a.sort()\n",
    "print(a)"
   ],
   "id": "79ebdd41d4248a4",
   "outputs": [
    {
     "name": "stdout",
     "output_type": "stream",
     "text": [
      "[4, 3, 2, 1]\n",
      "[1, 2, 3, 4]\n",
      "[1, 2, 3, 4]\n"
     ]
    }
   ],
   "execution_count": 127
  },
  {
   "metadata": {
    "ExecuteTime": {
     "end_time": "2025-07-13T06:15:05.124984Z",
     "start_time": "2025-07-13T06:15:05.122555Z"
    }
   },
   "cell_type": "code",
   "source": "print(a.count(4))",
   "id": "22e6a9cf919c5867",
   "outputs": [
    {
     "name": "stdout",
     "output_type": "stream",
     "text": [
      "1\n"
     ]
    }
   ],
   "execution_count": 128
  },
  {
   "metadata": {
    "ExecuteTime": {
     "end_time": "2025-07-13T06:15:05.127288Z",
     "start_time": "2025-07-13T06:15:05.125832Z"
    }
   },
   "cell_type": "code",
   "source": [
    "print(a)\n",
    "a.reverse()  # permanent operation\n",
    "print(a)"
   ],
   "id": "17d4a55725675eb9",
   "outputs": [
    {
     "name": "stdout",
     "output_type": "stream",
     "text": [
      "[1, 2, 3, 4]\n",
      "[4, 3, 2, 1]\n"
     ]
    }
   ],
   "execution_count": 129
  },
  {
   "metadata": {
    "ExecuteTime": {
     "end_time": "2025-07-13T06:15:53.706315Z",
     "start_time": "2025-07-13T06:15:53.703315Z"
    }
   },
   "cell_type": "code",
   "source": [
    "a = [4,5,6,6]\n",
    "b = a.copy()\n",
    "print(id(a))\n",
    "print(id(b))   # shallow copy"
   ],
   "id": "d78fa370d2690deb",
   "outputs": [
    {
     "name": "stdout",
     "output_type": "stream",
     "text": [
      "4377490368\n",
      "4367741504\n"
     ]
    }
   ],
   "execution_count": 130
  },
  {
   "metadata": {
    "ExecuteTime": {
     "end_time": "2025-07-13T06:17:35.006482Z",
     "start_time": "2025-07-13T06:17:35.002980Z"
    }
   },
   "cell_type": "code",
   "source": [
    "a = [1,2]\n",
    "b = a.copy()\n",
    "print(id(a[0]))\n",
    "print(id(b[0]))\n",
    "print(a)\n",
    "print(b)"
   ],
   "id": "967df2a3f3a63b31",
   "outputs": [
    {
     "name": "stdout",
     "output_type": "stream",
     "text": [
      "4308156032\n",
      "4308156032\n",
      "[1, 2]\n",
      "[1, 2]\n"
     ]
    }
   ],
   "execution_count": 133
  },
  {
   "metadata": {},
   "cell_type": "markdown",
   "source": "# list comprehension",
   "id": "dc607defc7c85656"
  },
  {
   "metadata": {
    "ExecuteTime": {
     "end_time": "2025-07-13T06:18:44.012614Z",
     "start_time": "2025-07-13T06:18:44.007873Z"
    }
   },
   "cell_type": "code",
   "source": "# more time efficient, reduced code",
   "id": "70400fc745ce5aad",
   "outputs": [],
   "execution_count": 134
  },
  {
   "metadata": {
    "ExecuteTime": {
     "end_time": "2025-07-13T06:19:25.981799Z",
     "start_time": "2025-07-13T06:19:25.979552Z"
    }
   },
   "cell_type": "code",
   "source": [
    "# add 1 to 10 numbers in list\n",
    "l = [i for i in range(1,11)]\n",
    "print(l)"
   ],
   "id": "75cbefae7ae7dc54",
   "outputs": [
    {
     "name": "stdout",
     "output_type": "stream",
     "text": [
      "[1, 2, 3, 4, 5, 6, 7, 8, 9, 10]\n"
     ]
    }
   ],
   "execution_count": 135
  },
  {
   "metadata": {
    "ExecuteTime": {
     "end_time": "2025-07-13T06:20:43.360063Z",
     "start_time": "2025-07-13T06:20:43.353797Z"
    }
   },
   "cell_type": "code",
   "source": [
    "v = [1,2,4,5]\n",
    "s = -3\n",
    "\n",
    "v = [i*s for i in v]\n",
    "print(v)"
   ],
   "id": "bca449896a8d5ef1",
   "outputs": [
    {
     "name": "stdout",
     "output_type": "stream",
     "text": [
      "[-3, -6, -12, -15]\n"
     ]
    }
   ],
   "execution_count": 136
  },
  {
   "metadata": {
    "ExecuteTime": {
     "end_time": "2025-07-13T06:21:48.689281Z",
     "start_time": "2025-07-13T06:21:48.687014Z"
    }
   },
   "cell_type": "code",
   "source": [
    "a = [1,2,3,4,5]\n",
    "b = [i*i for i in a]\n",
    "print(a)\n",
    "print(b)"
   ],
   "id": "8e4de67e4052fab8",
   "outputs": [
    {
     "name": "stdout",
     "output_type": "stream",
     "text": [
      "[1, 2, 3, 4, 5]\n",
      "[1, 4, 9, 16, 25]\n"
     ]
    }
   ],
   "execution_count": 137
  },
  {
   "metadata": {
    "ExecuteTime": {
     "end_time": "2025-07-13T06:23:35.653411Z",
     "start_time": "2025-07-13T06:23:35.646631Z"
    }
   },
   "cell_type": "code",
   "source": [
    "# print all the numbers divisible by 5 in range of [1,50]\n",
    "print([i for i in range(1,51) if i%5==0])"
   ],
   "id": "44d5d1c89b1fb624",
   "outputs": [
    {
     "name": "stdout",
     "output_type": "stream",
     "text": [
      "[5, 10, 15, 20, 25, 30, 35, 40, 45, 50]\n"
     ]
    }
   ],
   "execution_count": 139
  },
  {
   "metadata": {
    "ExecuteTime": {
     "end_time": "2025-07-13T06:25:21.997463Z",
     "start_time": "2025-07-13T06:25:21.991568Z"
    }
   },
   "cell_type": "code",
   "source": [
    "languages = ['java', 'python', 'php', 'c++', 'js']\n",
    "# find languages which starts with p\n",
    "\n",
    "print([language for language in languages if language.startswith('p')])"
   ],
   "id": "99819fa6afbcb773",
   "outputs": [
    {
     "name": "stdout",
     "output_type": "stream",
     "text": [
      "['python', 'php']\n"
     ]
    }
   ],
   "execution_count": 141
  },
  {
   "metadata": {
    "ExecuteTime": {
     "end_time": "2025-07-13T06:28:49.718869Z",
     "start_time": "2025-07-13T06:28:49.711452Z"
    }
   },
   "cell_type": "code",
   "source": [
    "basket = ['apple', 'guava', 'cherry', 'banana']\n",
    "fruits = ['apple', 'kiwi', 'grapes', 'banana']\n",
    "\n",
    "# add fruits in new list which starts with 'a' and also present in basket\n",
    "\n",
    "print([fruit for fruit in fruits if fruit.startswith('a') and fruit in basket])"
   ],
   "id": "299352be5650875c",
   "outputs": [
    {
     "name": "stdout",
     "output_type": "stream",
     "text": [
      "['apple']\n"
     ]
    }
   ],
   "execution_count": 142
  },
  {
   "metadata": {
    "ExecuteTime": {
     "end_time": "2025-07-13T06:30:20.193414Z",
     "start_time": "2025-07-13T06:30:20.191405Z"
    }
   },
   "cell_type": "code",
   "source": [
    "# print 3*3 matrix\n",
    "\n",
    "matrix = [[j for j in range(3)] for i in range(3)]\n",
    "print(matrix)"
   ],
   "id": "da3d6d1710fc90e7",
   "outputs": [
    {
     "name": "stdout",
     "output_type": "stream",
     "text": [
      "[[0, 1, 2], [0, 1, 2], [0, 1, 2]]\n"
     ]
    }
   ],
   "execution_count": 144
  },
  {
   "metadata": {
    "ExecuteTime": {
     "end_time": "2025-07-13T06:31:05.635168Z",
     "start_time": "2025-07-13T06:31:05.631624Z"
    }
   },
   "cell_type": "code",
   "source": [
    "# print 3*3 matrix\n",
    "\n",
    "matrix = [[i*j for j in range(1,4)] for i in range(1,4)]\n",
    "print(matrix)"
   ],
   "id": "9a192e90868fae45",
   "outputs": [
    {
     "name": "stdout",
     "output_type": "stream",
     "text": [
      "[[1, 2, 3], [2, 4, 6], [3, 6, 9]]\n"
     ]
    }
   ],
   "execution_count": 148
  },
  {
   "metadata": {
    "ExecuteTime": {
     "end_time": "2025-07-13T06:34:02.069766Z",
     "start_time": "2025-07-13T06:34:02.066364Z"
    }
   },
   "cell_type": "code",
   "source": [
    " # cartesian product\n",
    "\n",
    "l1 =[1,2,3,4]\n",
    "l2 = [5,6,7,8]\n",
    "\n",
    "print([ i*j for j in l2 for i in l1 ])"
   ],
   "id": "ccf01b635064676d",
   "outputs": [
    {
     "name": "stdout",
     "output_type": "stream",
     "text": [
      "[5, 10, 15, 20, 6, 12, 18, 24, 7, 14, 21, 28, 8, 16, 24, 32]\n"
     ]
    }
   ],
   "execution_count": 152
  },
  {
   "metadata": {},
   "cell_type": "markdown",
   "source": "# zip",
   "id": "64ebcf7cf999149f"
  },
  {
   "metadata": {
    "ExecuteTime": {
     "end_time": "2025-07-13T06:37:16.713208Z",
     "start_time": "2025-07-13T06:37:16.708897Z"
    }
   },
   "cell_type": "code",
   "source": [
    "l1 = [1,2,3,4]\n",
    "l2 = [5,6,7,8]\n",
    "\n",
    "l3 = [i for i in zip(l1,l2)]\n",
    "print(l3)"
   ],
   "id": "42e1b4514b58ddf2",
   "outputs": [
    {
     "name": "stdout",
     "output_type": "stream",
     "text": [
      "[(1, 5), (2, 6), (3, 7), (4, 8)]\n"
     ]
    }
   ],
   "execution_count": 153
  },
  {
   "metadata": {
    "ExecuteTime": {
     "end_time": "2025-07-13T06:37:55.282554Z",
     "start_time": "2025-07-13T06:37:55.280626Z"
    }
   },
   "cell_type": "code",
   "source": "print(list(zip(l1,l2)))",
   "id": "cc4e7ef30b3701d",
   "outputs": [
    {
     "name": "stdout",
     "output_type": "stream",
     "text": [
      "[(1, 5), (2, 6), (3, 7), (4, 8)]\n"
     ]
    }
   ],
   "execution_count": 155
  },
  {
   "metadata": {},
   "cell_type": "code",
   "outputs": [],
   "execution_count": null,
   "source": "",
   "id": "e9f652ee60cc034f"
  }
 ],
 "metadata": {
  "kernelspec": {
   "display_name": "Python 3",
   "language": "python",
   "name": "python3"
  },
  "language_info": {
   "codemirror_mode": {
    "name": "ipython",
    "version": 2
   },
   "file_extension": ".py",
   "mimetype": "text/x-python",
   "name": "python",
   "nbconvert_exporter": "python",
   "pygments_lexer": "ipython2",
   "version": "2.7.6"
  }
 },
 "nbformat": 4,
 "nbformat_minor": 5
}
