{
 "cells": [
  {
   "cell_type": "code",
   "id": "initial_id",
   "metadata": {
    "collapsed": true,
    "ExecuteTime": {
     "end_time": "2025-07-15T08:32:47.985979Z",
     "start_time": "2025-07-15T08:32:47.983012Z"
    }
   },
   "source": "print(\"hello world!!\")",
   "outputs": [
    {
     "name": "stdout",
     "output_type": "stream",
     "text": [
      "hello world!!\n"
     ]
    }
   ],
   "execution_count": 97
  },
  {
   "metadata": {
    "ExecuteTime": {
     "end_time": "2025-07-15T08:32:48.067928Z",
     "start_time": "2025-07-15T08:32:48.065508Z"
    }
   },
   "cell_type": "code",
   "source": [
    "def mysum(a=0, b=0):\n",
    "    return a+b"
   ],
   "id": "9d9fbf8a0d944be9",
   "outputs": [],
   "execution_count": 98
  },
  {
   "metadata": {
    "ExecuteTime": {
     "end_time": "2025-07-15T08:32:48.074213Z",
     "start_time": "2025-07-15T08:32:48.071164Z"
    }
   },
   "cell_type": "code",
   "source": "mysum(10,1)",
   "id": "6e413d335f7b92f",
   "outputs": [
    {
     "data": {
      "text/plain": [
       "11"
      ]
     },
     "execution_count": 99,
     "metadata": {},
     "output_type": "execute_result"
    }
   ],
   "execution_count": 99
  },
  {
   "metadata": {
    "ExecuteTime": {
     "end_time": "2025-07-15T08:32:48.083665Z",
     "start_time": "2025-07-15T08:32:48.080616Z"
    }
   },
   "cell_type": "code",
   "source": "mysum() # pick default value",
   "id": "6e704b2e71b92c1b",
   "outputs": [
    {
     "data": {
      "text/plain": [
       "0"
      ]
     },
     "execution_count": 100,
     "metadata": {},
     "output_type": "execute_result"
    }
   ],
   "execution_count": 100
  },
  {
   "metadata": {
    "ExecuteTime": {
     "end_time": "2025-07-15T08:32:48.103850Z",
     "start_time": "2025-07-15T08:32:48.089569Z"
    }
   },
   "cell_type": "code",
   "source": "mysum(1,2,2)",
   "id": "2f17c419808c26db",
   "outputs": [
    {
     "ename": "TypeError",
     "evalue": "mysum() takes from 0 to 2 positional arguments but 3 were given",
     "output_type": "error",
     "traceback": [
      "\u001B[31m---------------------------------------------------------------------------\u001B[39m",
      "\u001B[31mTypeError\u001B[39m                                 Traceback (most recent call last)",
      "\u001B[36mCell\u001B[39m\u001B[36m \u001B[39m\u001B[32mIn[101]\u001B[39m\u001B[32m, line 1\u001B[39m\n\u001B[32m----> \u001B[39m\u001B[32m1\u001B[39m mysum(\u001B[32m1\u001B[39m,\u001B[32m2\u001B[39m,\u001B[32m2\u001B[39m)\n",
      "\u001B[31mTypeError\u001B[39m: mysum() takes from 0 to 2 positional arguments but 3 were given"
     ]
    }
   ],
   "execution_count": 101
  },
  {
   "metadata": {},
   "cell_type": "code",
   "source": [
    "# keyword argument\n",
    "mysum(b=12, a=134) # can send without ordering"
   ],
   "id": "7f94be8d15bad805",
   "outputs": [],
   "execution_count": null
  },
  {
   "metadata": {},
   "cell_type": "markdown",
   "source": "*args and *kwargs",
   "id": "8fc196935b9c08f5"
  },
  {
   "metadata": {},
   "cell_type": "markdown",
   "source": "- both are used to pass variable length of arguments to a function",
   "id": "30f9d298eb7afb55"
  },
  {
   "metadata": {},
   "cell_type": "markdown",
   "source": "*args - allow us to pass a variable num of non keyword arguments to a function",
   "id": "6cdcabff8b0cd11b"
  },
  {
   "metadata": {
    "ExecuteTime": {
     "end_time": "2025-07-15T08:32:48.117144Z",
     "start_time": "2025-07-15T08:32:48.115514Z"
    }
   },
   "cell_type": "code",
   "source": [
    "def multiply(a,b):\n",
    "    return a*b"
   ],
   "id": "c17da8ceb99608a8",
   "outputs": [],
   "execution_count": 102
  },
  {
   "metadata": {
    "ExecuteTime": {
     "end_time": "2025-07-15T08:32:48.130796Z",
     "start_time": "2025-07-15T08:32:48.128867Z"
    }
   },
   "cell_type": "code",
   "source": [
    "def multiply1(*args):\n",
    "    print(args, type(args))\n",
    "    product = 1\n",
    "    for arg in args:\n",
    "        product *= arg\n",
    "    return product"
   ],
   "id": "be8554c8ab825ea9",
   "outputs": [],
   "execution_count": 103
  },
  {
   "metadata": {
    "ExecuteTime": {
     "end_time": "2025-07-15T08:32:48.167781Z",
     "start_time": "2025-07-15T08:32:48.164780Z"
    }
   },
   "cell_type": "code",
   "source": "multiply1(1,2,3,4,5,6,7,7)",
   "id": "5edbf62508b985f7",
   "outputs": [
    {
     "name": "stdout",
     "output_type": "stream",
     "text": [
      "(1, 2, 3, 4, 5, 6, 7, 7) <class 'tuple'>\n"
     ]
    },
    {
     "data": {
      "text/plain": [
       "35280"
      ]
     },
     "execution_count": 104,
     "metadata": {},
     "output_type": "execute_result"
    }
   ],
   "execution_count": 104
  },
  {
   "metadata": {
    "ExecuteTime": {
     "end_time": "2025-07-15T08:32:48.201964Z",
     "start_time": "2025-07-15T08:32:48.199761Z"
    }
   },
   "cell_type": "code",
   "source": [
    "def multiply2(*anamika):  # can use any word\n",
    "    print(anamika, type(anamika))\n",
    "    product = 1\n",
    "    for arg in anamika:\n",
    "        product *= arg\n",
    "    return product"
   ],
   "id": "ffe3a174977f0b3e",
   "outputs": [],
   "execution_count": 105
  },
  {
   "metadata": {
    "ExecuteTime": {
     "end_time": "2025-07-15T08:32:48.216897Z",
     "start_time": "2025-07-15T08:32:48.215070Z"
    }
   },
   "cell_type": "code",
   "source": [
    "def display(**kwargs): # become dictionary\n",
    "    for key, val in kwargs.items():\n",
    "        print(key, val)"
   ],
   "id": "91747387a2102852",
   "outputs": [],
   "execution_count": 106
  },
  {
   "metadata": {
    "ExecuteTime": {
     "end_time": "2025-07-15T08:32:48.227407Z",
     "start_time": "2025-07-15T08:32:48.224622Z"
    }
   },
   "cell_type": "code",
   "source": "display(ind='In', pak='pk', china='cn')",
   "id": "442fd712cdd88251",
   "outputs": [
    {
     "name": "stdout",
     "output_type": "stream",
     "text": [
      "ind In\n",
      "pak pk\n",
      "china cn\n"
     ]
    }
   ],
   "execution_count": 107
  },
  {
   "metadata": {},
   "cell_type": "markdown",
   "source": "order of arguments sholud be normal -> *args -> **kwargs",
   "id": "8f2c8a19cd07d71d"
  },
  {
   "metadata": {
    "ExecuteTime": {
     "end_time": "2025-07-15T08:32:48.306099Z",
     "start_time": "2025-07-15T08:32:48.249948Z"
    }
   },
   "cell_type": "code",
   "source": [
    "x = 5\n",
    "\n",
    "def h():\n",
    "    x += 1  # ❌ This will raise an error:\n",
    "            # UnboundLocalError: local variable 'x' referenced before assignment\n",
    "            #\n",
    "            # Explanation:\n",
    "            # When you do x += 1 inside the function, Python treats 'x' as a local variable.\n",
    "            # The line is interpreted as: x = x + 1\n",
    "            # But since 'x' has not been defined inside this local scope yet,\n",
    "            # Python throws an error because it tries to read the value of 'x' before assignment.\n",
    "\n",
    "h()\n",
    "print(x)"
   ],
   "id": "633d07b4818d72b0",
   "outputs": [
    {
     "ename": "UnboundLocalError",
     "evalue": "cannot access local variable 'x' where it is not associated with a value",
     "output_type": "error",
     "traceback": [
      "\u001B[31m---------------------------------------------------------------------------\u001B[39m",
      "\u001B[31mUnboundLocalError\u001B[39m                         Traceback (most recent call last)",
      "\u001B[36mCell\u001B[39m\u001B[36m \u001B[39m\u001B[32mIn[108]\u001B[39m\u001B[32m, line 13\u001B[39m\n\u001B[32m      4\u001B[39m     x += \u001B[32m1\u001B[39m  \u001B[38;5;66;03m# ❌ This will raise an error:\u001B[39;00m\n\u001B[32m      5\u001B[39m             \u001B[38;5;66;03m# UnboundLocalError: local variable 'x' referenced before assignment\u001B[39;00m\n\u001B[32m      6\u001B[39m             \u001B[38;5;66;03m#\u001B[39;00m\n\u001B[32m      7\u001B[39m             \u001B[38;5;66;03m# Explanation:\u001B[39;00m\n\u001B[32m   (...)\u001B[39m\u001B[32m     10\u001B[39m             \u001B[38;5;66;03m# But since 'x' has not been defined inside this local scope yet,\u001B[39;00m\n\u001B[32m     11\u001B[39m             \u001B[38;5;66;03m# Python throws an error because it tries to read the value of 'x' before assignment.\u001B[39;00m\n\u001B[32m---> \u001B[39m\u001B[32m13\u001B[39m h()\n\u001B[32m     14\u001B[39m \u001B[38;5;28mprint\u001B[39m(x)\n",
      "\u001B[36mCell\u001B[39m\u001B[36m \u001B[39m\u001B[32mIn[108]\u001B[39m\u001B[32m, line 4\u001B[39m, in \u001B[36mh\u001B[39m\u001B[34m()\u001B[39m\n\u001B[32m      3\u001B[39m \u001B[38;5;28;01mdef\u001B[39;00m\u001B[38;5;250m \u001B[39m\u001B[34mh\u001B[39m():\n\u001B[32m----> \u001B[39m\u001B[32m4\u001B[39m     x += \u001B[32m1\u001B[39m\n",
      "\u001B[31mUnboundLocalError\u001B[39m: cannot access local variable 'x' where it is not associated with a value"
     ]
    }
   ],
   "execution_count": 108
  },
  {
   "metadata": {
    "ExecuteTime": {
     "end_time": "2025-07-15T08:32:48.306882Z",
     "start_time": "2025-07-15T08:32:48.306840Z"
    }
   },
   "cell_type": "code",
   "source": [
    "x = 5\n",
    "\n",
    "def h():\n",
    "    global x  # ✅ Declare 'x' as global so the function refers to the variable outside its scope\n",
    "    x += 1    # Now this modifies the global 'x'\n",
    "\n",
    "h()\n",
    "print(x)  # Output: 6\n"
   ],
   "id": "cf19acae2a5ec8f",
   "outputs": [],
   "execution_count": null
  },
  {
   "metadata": {},
   "cell_type": "markdown",
   "source": "python supports nested function",
   "id": "13ac4514fc413c23"
  },
  {
   "metadata": {},
   "cell_type": "code",
   "source": [
    "def f():\n",
    "    def g():\n",
    "        print(\"g\")\n",
    "    g()\n",
    "    print(\"f\")\n",
    "    \n",
    "f()"
   ],
   "id": "9b31784fd42be128",
   "outputs": [],
   "execution_count": null
  },
  {
   "metadata": {},
   "cell_type": "code",
   "source": "g()  # outside of scope",
   "id": "8aa656fe6a3dff33",
   "outputs": [],
   "execution_count": null
  },
  {
   "metadata": {},
   "cell_type": "markdown",
   "source": "# functions are 1st class citizens in python",
   "id": "a002b444681bba6e"
  },
  {
   "metadata": {},
   "cell_type": "code",
   "source": [
    "def square(num):\n",
    "    return num**2\n",
    "\n",
    "type(square)"
   ],
   "id": "3e7d618aaebf7a53",
   "outputs": [],
   "execution_count": null
  },
  {
   "metadata": {
    "ExecuteTime": {
     "end_time": "2025-07-15T08:32:48.314203Z",
     "start_time": "2025-07-15T08:32:48.311437Z"
    }
   },
   "cell_type": "code",
   "source": "id(square)",
   "id": "461b37fd0db50f8e",
   "outputs": [
    {
     "data": {
      "text/plain": [
       "4419177984"
      ]
     },
     "execution_count": 109,
     "metadata": {},
     "output_type": "execute_result"
    }
   ],
   "execution_count": 109
  },
  {
   "metadata": {
    "ExecuteTime": {
     "end_time": "2025-07-15T08:32:48.317583Z",
     "start_time": "2025-07-15T08:32:48.315641Z"
    }
   },
   "cell_type": "code",
   "source": [
    "x = square\n",
    "x(3)"
   ],
   "id": "111cdd8d00563d36",
   "outputs": [
    {
     "data": {
      "text/plain": [
       "9"
      ]
     },
     "execution_count": 110,
     "metadata": {},
     "output_type": "execute_result"
    }
   ],
   "execution_count": 110
  },
  {
   "metadata": {
    "ExecuteTime": {
     "end_time": "2025-07-15T08:32:48.326101Z",
     "start_time": "2025-07-15T08:32:48.323980Z"
    }
   },
   "cell_type": "code",
   "source": "id(x)",
   "id": "d2cf3faaadea671f",
   "outputs": [
    {
     "data": {
      "text/plain": [
       "4419177984"
      ]
     },
     "execution_count": 111,
     "metadata": {},
     "output_type": "execute_result"
    }
   ],
   "execution_count": 111
  },
  {
   "metadata": {
    "ExecuteTime": {
     "end_time": "2025-07-15T08:32:48.338269Z",
     "start_time": "2025-07-15T08:32:48.336544Z"
    }
   },
   "cell_type": "code",
   "source": "del square",
   "id": "52ee08e2df8046bb",
   "outputs": [],
   "execution_count": 112
  },
  {
   "metadata": {
    "ExecuteTime": {
     "end_time": "2025-07-15T08:32:48.373468Z",
     "start_time": "2025-07-15T08:32:48.361558Z"
    }
   },
   "cell_type": "code",
   "source": "square(3)",
   "id": "b6948d091fd2e86e",
   "outputs": [
    {
     "ename": "NameError",
     "evalue": "name 'square' is not defined",
     "output_type": "error",
     "traceback": [
      "\u001B[31m---------------------------------------------------------------------------\u001B[39m",
      "\u001B[31mNameError\u001B[39m                                 Traceback (most recent call last)",
      "\u001B[36mCell\u001B[39m\u001B[36m \u001B[39m\u001B[32mIn[113]\u001B[39m\u001B[32m, line 1\u001B[39m\n\u001B[32m----> \u001B[39m\u001B[32m1\u001B[39m square(\u001B[32m3\u001B[39m)\n",
      "\u001B[31mNameError\u001B[39m: name 'square' is not defined"
     ]
    }
   ],
   "execution_count": 113
  },
  {
   "metadata": {
    "ExecuteTime": {
     "end_time": "2025-07-15T08:32:48.375092Z",
     "start_time": "2025-07-15T08:32:48.375026Z"
    }
   },
   "cell_type": "code",
   "source": [
    "def square(num):\n",
    "    return num**2\n",
    "\n",
    "L = [1,2,3,square]\n",
    "print(L)"
   ],
   "id": "78329eafb0898f6e",
   "outputs": [],
   "execution_count": null
  },
  {
   "metadata": {
    "ExecuteTime": {
     "end_time": "2025-07-15T08:32:48.387812Z",
     "start_time": "2025-07-15T08:32:48.376031Z"
    }
   },
   "cell_type": "code",
   "source": "L[-1](20)",
   "id": "75edc32ee83d2674",
   "outputs": [
    {
     "ename": "TypeError",
     "evalue": "'int' object is not callable",
     "output_type": "error",
     "traceback": [
      "\u001B[31m---------------------------------------------------------------------------\u001B[39m",
      "\u001B[31mTypeError\u001B[39m                                 Traceback (most recent call last)",
      "\u001B[36mCell\u001B[39m\u001B[36m \u001B[39m\u001B[32mIn[114]\u001B[39m\u001B[32m, line 1\u001B[39m\n\u001B[32m----> \u001B[39m\u001B[32m1\u001B[39m L[-\u001B[32m1\u001B[39m](\u001B[32m20\u001B[39m)\n",
      "\u001B[31mTypeError\u001B[39m: 'int' object is not callable"
     ]
    }
   ],
   "execution_count": 114
  },
  {
   "metadata": {},
   "cell_type": "code",
   "source": [
    "s = {square,}\n",
    "s  # means function is immutable"
   ],
   "id": "8cf4ef116569f4eb",
   "outputs": [],
   "execution_count": null
  },
  {
   "metadata": {},
   "cell_type": "code",
   "source": [
    "def f():\n",
    "    def g(x):\n",
    "        return x**2\n",
    "    return g\n",
    "\n",
    "\n",
    "we = f()\n",
    "we(20)"
   ],
   "id": "e2bb9734d9b49f91",
   "outputs": [],
   "execution_count": null
  },
  {
   "metadata": {},
   "cell_type": "markdown",
   "source": [
    "lambda function - small anonymous function\n",
    "- name\n",
    "- return a function\n",
    "- 1 line code\n",
    "- not reusable\n",
    "- used with higher order function"
   ],
   "id": "c791ff183191beee"
  },
  {
   "metadata": {
    "ExecuteTime": {
     "end_time": "2025-07-15T08:32:48.402668Z",
     "start_time": "2025-07-15T08:32:48.400183Z"
    }
   },
   "cell_type": "code",
   "source": [
    "a = lambda w:w**2\n",
    "a(2)"
   ],
   "id": "c53b1ac2007543e9",
   "outputs": [
    {
     "data": {
      "text/plain": [
       "4"
      ]
     },
     "execution_count": 115,
     "metadata": {},
     "output_type": "execute_result"
    }
   ],
   "execution_count": 115
  },
  {
   "metadata": {
    "ExecuteTime": {
     "end_time": "2025-07-15T08:32:48.411252Z",
     "start_time": "2025-07-15T08:32:48.408782Z"
    }
   },
   "cell_type": "code",
   "source": [
    "a = lambda p,q:p+q\n",
    "a(2,3)"
   ],
   "id": "de9eb61d54bf567d",
   "outputs": [
    {
     "data": {
      "text/plain": [
       "5"
      ]
     },
     "execution_count": 116,
     "metadata": {},
     "output_type": "execute_result"
    }
   ],
   "execution_count": 116
  },
  {
   "metadata": {
    "ExecuteTime": {
     "end_time": "2025-07-15T08:32:48.415087Z",
     "start_time": "2025-07-15T08:32:48.412488Z"
    }
   },
   "cell_type": "code",
   "source": [
    "# check if a string has 'a'\n",
    "a = lambda st:'a' in st\n",
    "a('apple')"
   ],
   "id": "ebc2ee8bae9bb764",
   "outputs": [
    {
     "data": {
      "text/plain": [
       "True"
      ]
     },
     "execution_count": 117,
     "metadata": {},
     "output_type": "execute_result"
    }
   ],
   "execution_count": 117
  },
  {
   "metadata": {
    "ExecuteTime": {
     "end_time": "2025-07-15T08:32:48.423115Z",
     "start_time": "2025-07-15T08:32:48.420561Z"
    }
   },
   "cell_type": "code",
   "source": [
    "f = lambda x: 'even' if x%2 else 'odd'\n",
    "f(2)"
   ],
   "id": "75e64c72ed525c3",
   "outputs": [
    {
     "data": {
      "text/plain": [
       "'odd'"
      ]
     },
     "execution_count": 118,
     "metadata": {},
     "output_type": "execute_result"
    }
   ],
   "execution_count": 118
  },
  {
   "metadata": {},
   "cell_type": "markdown",
   "source": [
    "##  higher order function = \n",
    "\n",
    "either take function in input or return function "
   ],
   "id": "a77bbf89278ff069"
  },
  {
   "metadata": {},
   "cell_type": "markdown",
   "source": [
    "def transform(f, L):\n",
    "    output = []\n",
    "    for i in L:\n",
    "        output.append(f(i))\n",
    "    print(output)\n",
    "    \n",
    "L = [1,2,3,4,5]\n",
    "transform(lambda e:e**2, L)"
   ],
   "id": "80364555863afaac"
  },
  {
   "metadata": {},
   "cell_type": "markdown",
   "source": "# map",
   "id": "b816de8a0ab4299f"
  },
  {
   "metadata": {
    "ExecuteTime": {
     "end_time": "2025-07-15T08:32:48.443637Z",
     "start_time": "2025-07-15T08:32:48.441371Z"
    }
   },
   "cell_type": "code",
   "source": "list(map(lambda  x:x**2, [1,2,3,4,5]))",
   "id": "2285621a604f1271",
   "outputs": [
    {
     "data": {
      "text/plain": [
       "[1, 4, 9, 16, 25]"
      ]
     },
     "execution_count": 119,
     "metadata": {},
     "output_type": "execute_result"
    }
   ],
   "execution_count": 119
  },
  {
   "metadata": {
    "ExecuteTime": {
     "end_time": "2025-07-15T08:32:48.452621Z",
     "start_time": "2025-07-15T08:32:48.450394Z"
    }
   },
   "cell_type": "code",
   "source": "list(map(lambda x:'even' if x%2==0 else 'odd', [1,2,3,4,5]))",
   "id": "9284bb15412699e6",
   "outputs": [
    {
     "data": {
      "text/plain": [
       "['odd', 'even', 'odd', 'even', 'odd']"
      ]
     },
     "execution_count": 120,
     "metadata": {},
     "output_type": "execute_result"
    }
   ],
   "execution_count": 120
  },
  {
   "metadata": {},
   "cell_type": "markdown",
   "source": "# filter",
   "id": "5ce21b29aa5c46bf"
  },
  {
   "metadata": {
    "ExecuteTime": {
     "end_time": "2025-07-15T08:33:53.964707Z",
     "start_time": "2025-07-15T08:33:53.961555Z"
    }
   },
   "cell_type": "code",
   "source": [
    "L = [1,2,3,4,5,6,6,7]\n",
    "\n",
    "list(filter(lambda x:x>=5, L))"
   ],
   "id": "453e39ec746eb125",
   "outputs": [
    {
     "data": {
      "text/plain": [
       "[5, 6, 6, 7]"
      ]
     },
     "execution_count": 123,
     "metadata": {},
     "output_type": "execute_result"
    }
   ],
   "execution_count": 123
  },
  {
   "metadata": {},
   "cell_type": "markdown",
   "source": "# reduce",
   "id": "77023de21e4e7ae1"
  },
  {
   "metadata": {
    "ExecuteTime": {
     "end_time": "2025-07-15T08:34:57.706982Z",
     "start_time": "2025-07-15T08:34:57.701949Z"
    }
   },
   "cell_type": "code",
   "source": [
    "import functools\n",
    "functools.reduce(lambda x,y:x+y, [1,2,3,4,5])"
   ],
   "id": "51b5f4bd380f2fb9",
   "outputs": [
    {
     "data": {
      "text/plain": [
       "15"
      ]
     },
     "execution_count": 124,
     "metadata": {},
     "output_type": "execute_result"
    }
   ],
   "execution_count": 124
  },
  {
   "metadata": {
    "ExecuteTime": {
     "end_time": "2025-07-15T08:35:57.056807Z",
     "start_time": "2025-07-15T08:35:57.045006Z"
    }
   },
   "cell_type": "code",
   "source": [
    "# find min\n",
    "functools.reduce(lambda x,y:x if x<y else y, [1,2,3,4,6,-1])"
   ],
   "id": "7e3baeb5dc827999",
   "outputs": [
    {
     "data": {
      "text/plain": [
       "-1"
      ]
     },
     "execution_count": 125,
     "metadata": {},
     "output_type": "execute_result"
    }
   ],
   "execution_count": 125
  }
 ],
 "metadata": {
  "kernelspec": {
   "display_name": "Python 3",
   "language": "python",
   "name": "python3"
  },
  "language_info": {
   "codemirror_mode": {
    "name": "ipython",
    "version": 2
   },
   "file_extension": ".py",
   "mimetype": "text/x-python",
   "name": "python",
   "nbconvert_exporter": "python",
   "pygments_lexer": "ipython2",
   "version": "2.7.6"
  }
 },
 "nbformat": 4,
 "nbformat_minor": 5
}
