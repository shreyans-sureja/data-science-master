{
 "cells": [
  {
   "cell_type": "code",
   "id": "initial_id",
   "metadata": {
    "collapsed": true,
    "ExecuteTime": {
     "end_time": "2025-07-08T16:25:12.704423Z",
     "start_time": "2025-07-08T16:25:12.701806Z"
    }
   },
   "source": "print(\"hello world!!\")",
   "outputs": [
    {
     "name": "stdout",
     "output_type": "stream",
     "text": [
      "hello world!!\n"
     ]
    }
   ],
   "execution_count": 37
  },
  {
   "metadata": {},
   "cell_type": "markdown",
   "source": "## Operators",
   "id": "568e3cefa9a6b38a"
  },
  {
   "metadata": {
    "ExecuteTime": {
     "end_time": "2025-07-08T16:25:12.718259Z",
     "start_time": "2025-07-08T16:25:12.715324Z"
    }
   },
   "cell_type": "code",
   "source": [
    "print(5+6)\n",
    "print(5-6)\n",
    "print(5*6)\n",
    "print(5/2)\n",
    "print(5//2, type(5//2))  # floor of result"
   ],
   "id": "3d9574a65467c60c",
   "outputs": [
    {
     "name": "stdout",
     "output_type": "stream",
     "text": [
      "11\n",
      "-1\n",
      "30\n",
      "2.5\n",
      "2 <class 'int'>\n"
     ]
    }
   ],
   "execution_count": 38
  },
  {
   "metadata": {
    "ExecuteTime": {
     "end_time": "2025-07-08T16:25:12.732271Z",
     "start_time": "2025-07-08T16:25:12.730146Z"
    }
   },
   "cell_type": "code",
   "source": "print(5**2) # power",
   "id": "37098ce07ce50e24",
   "outputs": [
    {
     "name": "stdout",
     "output_type": "stream",
     "text": [
      "25\n"
     ]
    }
   ],
   "execution_count": 39
  },
  {
   "metadata": {
    "ExecuteTime": {
     "end_time": "2025-07-08T16:25:12.736572Z",
     "start_time": "2025-07-08T16:25:12.733738Z"
    }
   },
   "cell_type": "code",
   "source": [
    "# relational operator\n",
    "print(4>5)\n",
    "print(4<5)\n",
    "print(4>=5)\n",
    "print(4!=4)"
   ],
   "id": "d71de8fd0801320a",
   "outputs": [
    {
     "name": "stdout",
     "output_type": "stream",
     "text": [
      "False\n",
      "True\n",
      "False\n",
      "False\n"
     ]
    }
   ],
   "execution_count": 40
  },
  {
   "metadata": {
    "ExecuteTime": {
     "end_time": "2025-07-08T16:25:12.744477Z",
     "start_time": "2025-07-08T16:25:12.742312Z"
    }
   },
   "cell_type": "code",
   "source": [
    "# logical operator\n",
    "print(1 and 0)\n",
    "print(1 or 0)"
   ],
   "id": "69193819f59f7f81",
   "outputs": [
    {
     "name": "stdout",
     "output_type": "stream",
     "text": [
      "0\n",
      "1\n"
     ]
    }
   ],
   "execution_count": 41
  },
  {
   "metadata": {
    "ExecuteTime": {
     "end_time": "2025-07-08T16:25:12.747280Z",
     "start_time": "2025-07-08T16:25:12.745564Z"
    }
   },
   "cell_type": "code",
   "source": [
    "print(not 1)\n",
    "print(not 0)"
   ],
   "id": "9afb869bd24636b5",
   "outputs": [
    {
     "name": "stdout",
     "output_type": "stream",
     "text": [
      "False\n",
      "True\n"
     ]
    }
   ],
   "execution_count": 42
  },
  {
   "metadata": {
    "ExecuteTime": {
     "end_time": "2025-07-08T16:25:12.750854Z",
     "start_time": "2025-07-08T16:25:12.748168Z"
    }
   },
   "cell_type": "code",
   "source": [
    "# bitwise operator\n",
    "print(2 & 3) # 010 & 011\n",
    "print(2 | 3)\n",
    "print(2^3)\n",
    "print(~3)\n",
    "\n",
    "print(2 >> 1) # left shift\n",
    "print(2 << 1) # right shift"
   ],
   "id": "68592f5450860937",
   "outputs": [
    {
     "name": "stdout",
     "output_type": "stream",
     "text": [
      "2\n",
      "3\n",
      "1\n",
      "-4\n",
      "1\n",
      "4\n"
     ]
    }
   ],
   "execution_count": 43
  },
  {
   "metadata": {
    "ExecuteTime": {
     "end_time": "2025-07-08T16:25:12.753694Z",
     "start_time": "2025-07-08T16:25:12.751918Z"
    }
   },
   "cell_type": "code",
   "source": [
    "# membership operator\n",
    "print('D' in 'Delhi')\n",
    "print(1 in [1,2,3,4])"
   ],
   "id": "d0715c21c682e6e7",
   "outputs": [
    {
     "name": "stdout",
     "output_type": "stream",
     "text": [
      "True\n",
      "True\n"
     ]
    }
   ],
   "execution_count": 44
  },
  {
   "metadata": {
    "ExecuteTime": {
     "end_time": "2025-07-08T16:25:12.770017Z",
     "start_time": "2025-07-08T16:25:12.767926Z"
    }
   },
   "cell_type": "code",
   "source": "print(1 not in [1, 2,3,4])",
   "id": "c89c4a7c0a85ff26",
   "outputs": [
    {
     "name": "stdout",
     "output_type": "stream",
     "text": [
      "False\n"
     ]
    }
   ],
   "execution_count": 45
  },
  {
   "metadata": {},
   "cell_type": "markdown",
   "source": "## if-else",
   "id": "3f2708a12a2982e1"
  },
  {
   "metadata": {
    "ExecuteTime": {
     "end_time": "2025-07-08T16:25:12.773854Z",
     "start_time": "2025-07-08T16:25:12.771934Z"
    }
   },
   "cell_type": "code",
   "source": [
    "x = 4\n",
    "if x == 3:\n",
    "    print(\"hi\")\n",
    "elif x == 5:\n",
    "    print(\"elif\")\n",
    "else:\n",
    "    print(\"hello\")"
   ],
   "id": "fb90479d7d088602",
   "outputs": [
    {
     "name": "stdout",
     "output_type": "stream",
     "text": [
      "hello\n"
     ]
    }
   ],
   "execution_count": 46
  },
  {
   "metadata": {},
   "cell_type": "markdown",
   "source": "## modules",
   "id": "26d2035908b79b8e"
  },
  {
   "metadata": {},
   "cell_type": "markdown",
   "source": "### 1.math",
   "id": "6eb46f5cebb14fa3"
  },
  {
   "metadata": {},
   "cell_type": "markdown",
   "source": [
    "import math\n",
    "math.factorial(5)\n",
    "math.sqrt(25)"
   ],
   "id": "ee57c982f89b0cfd"
  },
  {
   "metadata": {},
   "cell_type": "markdown",
   "source": "### 2.Keywords",
   "id": "10ed85fb2f61bbfc"
  },
  {
   "metadata": {
    "ExecuteTime": {
     "end_time": "2025-07-08T16:25:12.783074Z",
     "start_time": "2025-07-08T16:25:12.780713Z"
    }
   },
   "cell_type": "code",
   "source": [
    "import keyword\n",
    "print(keyword.kwlist)"
   ],
   "id": "8e93621e663bafd3",
   "outputs": [
    {
     "name": "stdout",
     "output_type": "stream",
     "text": [
      "['False', 'None', 'True', 'and', 'as', 'assert', 'async', 'await', 'break', 'class', 'continue', 'def', 'del', 'elif', 'else', 'except', 'finally', 'for', 'from', 'global', 'if', 'import', 'in', 'is', 'lambda', 'nonlocal', 'not', 'or', 'pass', 'raise', 'return', 'try', 'while', 'with', 'yield']\n"
     ]
    }
   ],
   "execution_count": 47
  },
  {
   "metadata": {},
   "cell_type": "markdown",
   "source": "### 3.random",
   "id": "e0ebd9f6743fdfc0"
  },
  {
   "metadata": {
    "ExecuteTime": {
     "end_time": "2025-07-08T16:25:12.786027Z",
     "start_time": "2025-07-08T16:25:12.784196Z"
    }
   },
   "cell_type": "code",
   "source": [
    "import random\n",
    "print(random.randint(1,100))  # both included [1, 100]\n",
    "print(random.random()) # gives value between 0 and 1 [0,1)"
   ],
   "id": "6758d6a820010ead",
   "outputs": [
    {
     "name": "stdout",
     "output_type": "stream",
     "text": [
      "21\n",
      "0.602134918171435\n"
     ]
    }
   ],
   "execution_count": 48
  },
  {
   "metadata": {},
   "cell_type": "markdown",
   "source": "### 4. datetime",
   "id": "a1d0a8ae8840ccfb"
  },
  {
   "metadata": {
    "ExecuteTime": {
     "end_time": "2025-07-08T16:25:12.793409Z",
     "start_time": "2025-07-08T16:25:12.791647Z"
    }
   },
   "cell_type": "code",
   "source": [
    "import datetime\n",
    "print(datetime.datetime.now())"
   ],
   "id": "1d4b330744323f0",
   "outputs": [
    {
     "name": "stdout",
     "output_type": "stream",
     "text": [
      "2025-07-08 21:55:12.792188\n"
     ]
    }
   ],
   "execution_count": 49
  },
  {
   "metadata": {},
   "cell_type": "markdown",
   "source": "## Loops",
   "id": "feaca447ca68ffa1"
  },
  {
   "metadata": {
    "ExecuteTime": {
     "end_time": "2025-07-08T16:25:19.676572Z",
     "start_time": "2025-07-08T16:25:19.674586Z"
    }
   },
   "cell_type": "code",
   "source": [
    "i = 1\n",
    "while i<=10:\n",
    "    print(i, end=' ')\n",
    "    i += 1"
   ],
   "id": "457c3abeb4630153",
   "outputs": [
    {
     "name": "stdout",
     "output_type": "stream",
     "text": [
      "1 2 3 4 5 6 7 8 9 10 "
     ]
    }
   ],
   "execution_count": 51
  },
  {
   "metadata": {
    "ExecuteTime": {
     "end_time": "2025-07-08T16:26:27.910329Z",
     "start_time": "2025-07-08T16:26:27.907688Z"
    }
   },
   "cell_type": "code",
   "source": [
    "x = 1\n",
    "while x != 1:\n",
    "    print(x)\n",
    "else:\n",
    "    print(\"x is:\", x)"
   ],
   "id": "fd08b11a2d14192c",
   "outputs": [
    {
     "name": "stdout",
     "output_type": "stream",
     "text": [
      "x is: 1\n"
     ]
    }
   ],
   "execution_count": 53
  },
  {
   "metadata": {
    "ExecuteTime": {
     "end_time": "2025-07-08T16:28:56.145767Z",
     "start_time": "2025-07-08T16:28:56.138089Z"
    }
   },
   "cell_type": "code",
   "source": [
    "# for loop\n",
    "for i in range(1, 11): # [1,11)\n",
    "    print(i, end=' ')"
   ],
   "id": "3b98f2d13dd008c0",
   "outputs": [
    {
     "name": "stdout",
     "output_type": "stream",
     "text": [
      "1 2 3 4 5 6 7 8 9 10 "
     ]
    }
   ],
   "execution_count": 54
  },
  {
   "metadata": {
    "ExecuteTime": {
     "end_time": "2025-07-08T16:29:33.777894Z",
     "start_time": "2025-07-08T16:29:33.770895Z"
    }
   },
   "cell_type": "code",
   "source": [
    "for i in range(1, 11, 2):\n",
    "    print(i, end=' ')"
   ],
   "id": "be9df2fff8103eed",
   "outputs": [
    {
     "name": "stdout",
     "output_type": "stream",
     "text": [
      "1 3 5 7 9 "
     ]
    }
   ],
   "execution_count": 55
  },
  {
   "metadata": {
    "ExecuteTime": {
     "end_time": "2025-07-08T16:30:19.410597Z",
     "start_time": "2025-07-08T16:30:19.407910Z"
    }
   },
   "cell_type": "code",
   "source": [
    "for i in range(10, 0, -1):\n",
    "    print(i, end=' ')"
   ],
   "id": "7fe5073528bee74f",
   "outputs": [
    {
     "name": "stdout",
     "output_type": "stream",
     "text": [
      "10 9 8 7 6 5 4 3 2 1 "
     ]
    }
   ],
   "execution_count": 58
  }
 ],
 "metadata": {
  "kernelspec": {
   "display_name": "Python 3",
   "language": "python",
   "name": "python3"
  },
  "language_info": {
   "codemirror_mode": {
    "name": "ipython",
    "version": 2
   },
   "file_extension": ".py",
   "mimetype": "text/x-python",
   "name": "python",
   "nbconvert_exporter": "python",
   "pygments_lexer": "ipython2",
   "version": "2.7.6"
  }
 },
 "nbformat": 4,
 "nbformat_minor": 5
}
