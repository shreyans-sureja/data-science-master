{
 "cells": [
  {
   "cell_type": "code",
   "id": "initial_id",
   "metadata": {
    "collapsed": true,
    "ExecuteTime": {
     "end_time": "2025-07-09T07:17:55.955484Z",
     "start_time": "2025-07-09T07:17:55.951709Z"
    }
   },
   "source": "print(\"hello world\")",
   "outputs": [
    {
     "name": "stdout",
     "output_type": "stream",
     "text": [
      "hello world\n"
     ]
    }
   ],
   "execution_count": 1
  },
  {
   "metadata": {
    "ExecuteTime": {
     "end_time": "2025-07-09T07:26:41.195951Z",
     "start_time": "2025-07-09T07:26:41.181165Z"
    }
   },
   "cell_type": "code",
   "source": "# string in python is sequence of unicode characters",
   "id": "6dba22d8ddcd4416",
   "outputs": [],
   "execution_count": 2
  },
  {
   "metadata": {
    "ExecuteTime": {
     "end_time": "2025-07-09T07:28:21.234927Z",
     "start_time": "2025-07-09T07:28:21.228770Z"
    }
   },
   "cell_type": "code",
   "source": [
    "s = 'shrey'\n",
    "s = \"shrey\"\n",
    "s = '''shrey'''\n",
    "s = \"\"\"shrey\"\"\""
   ],
   "id": "cdf1e44f89b593c7",
   "outputs": [],
   "execution_count": 5
  },
  {
   "metadata": {
    "ExecuteTime": {
     "end_time": "2025-07-09T07:28:21.580294Z",
     "start_time": "2025-07-09T07:28:21.575939Z"
    }
   },
   "cell_type": "code",
   "source": "\"it's raining\"",
   "id": "15218a61582bd651",
   "outputs": [
    {
     "data": {
      "text/plain": [
       "\"it's raining\""
      ]
     },
     "execution_count": 6,
     "metadata": {},
     "output_type": "execute_result"
    }
   ],
   "execution_count": 6
  },
  {
   "metadata": {
    "ExecuteTime": {
     "end_time": "2025-07-09T07:29:15.190355Z",
     "start_time": "2025-07-09T07:29:14.892837Z"
    }
   },
   "cell_type": "code",
   "source": [
    "# positive indexing\n",
    "str = \"hello world\"\n",
    "print(str[1])\n",
    "print(str[34])"
   ],
   "id": "2254b5a0225a4712",
   "outputs": [
    {
     "name": "stdout",
     "output_type": "stream",
     "text": [
      "e\n"
     ]
    },
    {
     "ename": "IndexError",
     "evalue": "string index out of range",
     "output_type": "error",
     "traceback": [
      "\u001B[31m---------------------------------------------------------------------------\u001B[39m",
      "\u001B[31mIndexError\u001B[39m                                Traceback (most recent call last)",
      "\u001B[36mCell\u001B[39m\u001B[36m \u001B[39m\u001B[32mIn[9]\u001B[39m\u001B[32m, line 4\u001B[39m\n\u001B[32m      2\u001B[39m \u001B[38;5;28mstr\u001B[39m = \u001B[33m\"\u001B[39m\u001B[33mhello world\u001B[39m\u001B[33m\"\u001B[39m\n\u001B[32m      3\u001B[39m \u001B[38;5;28mprint\u001B[39m(\u001B[38;5;28mstr\u001B[39m[\u001B[32m1\u001B[39m])\n\u001B[32m----> \u001B[39m\u001B[32m4\u001B[39m \u001B[38;5;28mprint\u001B[39m(\u001B[38;5;28mstr\u001B[39m[\u001B[32m34\u001B[39m])\n",
      "\u001B[31mIndexError\u001B[39m: string index out of range"
     ]
    }
   ],
   "execution_count": 9
  },
  {
   "metadata": {
    "ExecuteTime": {
     "end_time": "2025-07-09T07:29:32.609652Z",
     "start_time": "2025-07-09T07:29:32.602848Z"
    }
   },
   "cell_type": "code",
   "source": [
    "# negative indexing\n",
    "print(str[-2])"
   ],
   "id": "8e1be53a0ac69ae7",
   "outputs": [
    {
     "name": "stdout",
     "output_type": "stream",
     "text": [
      "l\n"
     ]
    }
   ],
   "execution_count": 10
  },
  {
   "metadata": {
    "ExecuteTime": {
     "end_time": "2025-07-09T07:30:32.006882Z",
     "start_time": "2025-07-09T07:30:32.003765Z"
    }
   },
   "cell_type": "code",
   "source": [
    "# slicing\n",
    "print(str[0:5])  "
   ],
   "id": "a27f2e13bc48a1ae",
   "outputs": [
    {
     "name": "stdout",
     "output_type": "stream",
     "text": [
      "hello\n"
     ]
    }
   ],
   "execution_count": 12
  },
  {
   "metadata": {
    "ExecuteTime": {
     "end_time": "2025-07-09T07:30:44.670647Z",
     "start_time": "2025-07-09T07:30:44.664892Z"
    }
   },
   "cell_type": "code",
   "source": "print(str[1:1])  # [start, end)",
   "id": "87c0aecdd88dc038",
   "outputs": [
    {
     "name": "stdout",
     "output_type": "stream",
     "text": [
      "\n"
     ]
    }
   ],
   "execution_count": 13
  },
  {
   "metadata": {
    "ExecuteTime": {
     "end_time": "2025-07-09T07:32:09.640555Z",
     "start_time": "2025-07-09T07:32:09.633603Z"
    }
   },
   "cell_type": "code",
   "source": "print(str[2:])",
   "id": "5f34722c86d495d",
   "outputs": [
    {
     "name": "stdout",
     "output_type": "stream",
     "text": [
      "llo world\n"
     ]
    }
   ],
   "execution_count": 18
  },
  {
   "metadata": {
    "ExecuteTime": {
     "end_time": "2025-07-09T07:32:16.745251Z",
     "start_time": "2025-07-09T07:32:16.743208Z"
    }
   },
   "cell_type": "code",
   "source": "print(str[2:354])  ",
   "id": "c6798906ef6d6fb7",
   "outputs": [
    {
     "name": "stdout",
     "output_type": "stream",
     "text": [
      "llo world\n"
     ]
    }
   ],
   "execution_count": 19
  },
  {
   "metadata": {
    "ExecuteTime": {
     "end_time": "2025-07-09T07:32:40.392778Z",
     "start_time": "2025-07-09T07:32:40.381559Z"
    }
   },
   "cell_type": "code",
   "source": "print(str[0::2]) # like for loop i=start, i<end; i+=skip",
   "id": "1547364cc210a26b",
   "outputs": [
    {
     "name": "stdout",
     "output_type": "stream",
     "text": [
      "hlowrd\n"
     ]
    }
   ],
   "execution_count": 20
  },
  {
   "metadata": {
    "ExecuteTime": {
     "end_time": "2025-07-09T07:34:04.543555Z",
     "start_time": "2025-07-09T07:34:04.536990Z"
    }
   },
   "cell_type": "code",
   "source": "print(str[::-1])  # reverse the string",
   "id": "2c116a0966408f65",
   "outputs": [
    {
     "name": "stdout",
     "output_type": "stream",
     "text": [
      "dlrow olleh\n"
     ]
    }
   ],
   "execution_count": 21
  },
  {
   "metadata": {
    "ExecuteTime": {
     "end_time": "2025-07-09T07:35:12.166509Z",
     "start_time": "2025-07-09T07:35:12.163314Z"
    }
   },
   "cell_type": "code",
   "source": [
    "# print world using neg indexing\n",
    "print(str[-5:])"
   ],
   "id": "393a742ae81f7b0c",
   "outputs": [
    {
     "name": "stdout",
     "output_type": "stream",
     "text": [
      "world\n"
     ]
    }
   ],
   "execution_count": 23
  },
  {
   "metadata": {
    "ExecuteTime": {
     "end_time": "2025-07-09T07:35:46.113930Z",
     "start_time": "2025-07-09T07:35:46.110565Z"
    }
   },
   "cell_type": "code",
   "source": "print(str[-1:-6:-1])",
   "id": "a39af0b6f64cd53f",
   "outputs": [
    {
     "name": "stdout",
     "output_type": "stream",
     "text": [
      "dlrow\n"
     ]
    }
   ],
   "execution_count": 25
  },
  {
   "metadata": {
    "ExecuteTime": {
     "end_time": "2025-07-09T07:36:43.283512Z",
     "start_time": "2025-07-09T07:36:43.270839Z"
    }
   },
   "cell_type": "code",
   "source": [
    "s = \"hello world\"\n",
    "s[0] = 'H'"
   ],
   "id": "df8414f6eedf4ec5",
   "outputs": [
    {
     "ename": "TypeError",
     "evalue": "'str' object does not support item assignment",
     "output_type": "error",
     "traceback": [
      "\u001B[31m---------------------------------------------------------------------------\u001B[39m",
      "\u001B[31mTypeError\u001B[39m                                 Traceback (most recent call last)",
      "\u001B[36mCell\u001B[39m\u001B[36m \u001B[39m\u001B[32mIn[27]\u001B[39m\u001B[32m, line 2\u001B[39m\n\u001B[32m      1\u001B[39m s = \u001B[33m\"\u001B[39m\u001B[33mhello world\u001B[39m\u001B[33m\"\u001B[39m\n\u001B[32m----> \u001B[39m\u001B[32m2\u001B[39m s[\u001B[32m0\u001B[39m] = \u001B[33m'\u001B[39m\u001B[33mH\u001B[39m\u001B[33m'\u001B[39m\n",
      "\u001B[31mTypeError\u001B[39m: 'str' object does not support item assignment"
     ]
    }
   ],
   "execution_count": 27
  },
  {
   "metadata": {},
   "cell_type": "markdown",
   "source": "   Because python string is immutable ",
   "id": "dd70576ab26d8a15"
  },
  {
   "metadata": {
    "ExecuteTime": {
     "end_time": "2025-07-09T07:37:49.075513Z",
     "start_time": "2025-07-09T07:37:49.042668Z"
    }
   },
   "cell_type": "code",
   "source": [
    "s = 'hello'\n",
    "del s\n",
    "print(s)"
   ],
   "id": "f5bf572ac946c633",
   "outputs": [
    {
     "ename": "NameError",
     "evalue": "name 's' is not defined",
     "output_type": "error",
     "traceback": [
      "\u001B[31m---------------------------------------------------------------------------\u001B[39m",
      "\u001B[31mNameError\u001B[39m                                 Traceback (most recent call last)",
      "\u001B[36mCell\u001B[39m\u001B[36m \u001B[39m\u001B[32mIn[28]\u001B[39m\u001B[32m, line 3\u001B[39m\n\u001B[32m      1\u001B[39m s = \u001B[33m'\u001B[39m\u001B[33mhello\u001B[39m\u001B[33m'\u001B[39m\n\u001B[32m      2\u001B[39m \u001B[38;5;28;01mdel\u001B[39;00m s\n\u001B[32m----> \u001B[39m\u001B[32m3\u001B[39m \u001B[38;5;28mprint\u001B[39m(s)\n",
      "\u001B[31mNameError\u001B[39m: name 's' is not defined"
     ]
    }
   ],
   "execution_count": 28
  },
  {
   "metadata": {
    "ExecuteTime": {
     "end_time": "2025-07-09T07:39:07.891924Z",
     "start_time": "2025-07-09T07:39:07.886234Z"
    }
   },
   "cell_type": "code",
   "source": [
    "st = \"hello\" + \"world\"\n",
    "print(st)"
   ],
   "id": "1a1a343eded74fbf",
   "outputs": [
    {
     "name": "stdout",
     "output_type": "stream",
     "text": [
      "helloworld\n"
     ]
    }
   ],
   "execution_count": 29
  },
  {
   "metadata": {
    "ExecuteTime": {
     "end_time": "2025-07-09T07:39:24.990490Z",
     "start_time": "2025-07-09T07:39:24.984194Z"
    }
   },
   "cell_type": "code",
   "source": "print(\"hie\"*5)",
   "id": "7e8de559b2da539c",
   "outputs": [
    {
     "name": "stdout",
     "output_type": "stream",
     "text": [
      "hiehiehiehiehie\n"
     ]
    }
   ],
   "execution_count": 30
  },
  {
   "metadata": {
    "ExecuteTime": {
     "end_time": "2025-07-09T07:40:27.672398Z",
     "start_time": "2025-07-09T07:40:27.663429Z"
    }
   },
   "cell_type": "code",
   "source": "'mumbai' > 'pune'",
   "id": "65bca586bbee2b6b",
   "outputs": [
    {
     "data": {
      "text/plain": [
       "False"
      ]
     },
     "execution_count": 32,
     "metadata": {},
     "output_type": "execute_result"
    }
   ],
   "execution_count": 32
  },
  {
   "metadata": {},
   "cell_type": "markdown",
   "source": "lexicographically comparison ^",
   "id": "bcc2105b3a702bc0"
  },
  {
   "metadata": {
    "ExecuteTime": {
     "end_time": "2025-07-09T07:41:32.327227Z",
     "start_time": "2025-07-09T07:41:32.315900Z"
    }
   },
   "cell_type": "code",
   "source": "'A' < 'a' # ascii order",
   "id": "9130151ce99c1636",
   "outputs": [
    {
     "data": {
      "text/plain": [
       "True"
      ]
     },
     "execution_count": 33,
     "metadata": {},
     "output_type": "execute_result"
    }
   ],
   "execution_count": 33
  },
  {
   "metadata": {},
   "cell_type": "markdown",
   "source": "in python and + or operator compare like empty string or not",
   "id": "7ccfe798323dac6e"
  },
  {
   "metadata": {
    "ExecuteTime": {
     "end_time": "2025-07-09T07:43:17.797406Z",
     "start_time": "2025-07-09T07:43:17.789752Z"
    }
   },
   "cell_type": "code",
   "source": [
    "'hello' and 'world'\n",
    "\n",
    "# hello is not empty so true, true and world is world"
   ],
   "id": "6be6e018a09b416",
   "outputs": [
    {
     "data": {
      "text/plain": [
       "'world'"
      ]
     },
     "execution_count": 34,
     "metadata": {},
     "output_type": "execute_result"
    }
   ],
   "execution_count": 34
  },
  {
   "metadata": {
    "ExecuteTime": {
     "end_time": "2025-07-09T07:45:15.034466Z",
     "start_time": "2025-07-09T07:45:15.027631Z"
    }
   },
   "cell_type": "code",
   "source": "'' and 'world'",
   "id": "273dac791db7d100",
   "outputs": [
    {
     "data": {
      "text/plain": [
       "''"
      ]
     },
     "execution_count": 35,
     "metadata": {},
     "output_type": "execute_result"
    }
   ],
   "execution_count": 35
  },
  {
   "metadata": {
    "ExecuteTime": {
     "end_time": "2025-07-09T07:45:48.512143Z",
     "start_time": "2025-07-09T07:45:48.505739Z"
    }
   },
   "cell_type": "code",
   "source": [
    "'hello' or 'world'\n",
    "\n",
    "# hello and non-empty will result in hello, or always compare first condition"
   ],
   "id": "f11e916b12e2fd4e",
   "outputs": [
    {
     "data": {
      "text/plain": [
       "'hello'"
      ]
     },
     "execution_count": 36,
     "metadata": {},
     "output_type": "execute_result"
    }
   ],
   "execution_count": 36
  },
  {
   "metadata": {
    "ExecuteTime": {
     "end_time": "2025-07-09T07:45:55.954877Z",
     "start_time": "2025-07-09T07:45:55.951377Z"
    }
   },
   "cell_type": "code",
   "source": "'hello' or ''",
   "id": "6baf6f16e2d0615a",
   "outputs": [
    {
     "data": {
      "text/plain": [
       "'hello'"
      ]
     },
     "execution_count": 37,
     "metadata": {},
     "output_type": "execute_result"
    }
   ],
   "execution_count": 37
  },
  {
   "metadata": {
    "ExecuteTime": {
     "end_time": "2025-07-09T07:47:08.136924Z",
     "start_time": "2025-07-09T07:47:08.130597Z"
    }
   },
   "cell_type": "code",
   "source": "'' or 'hello'",
   "id": "3143beda5a426ee8",
   "outputs": [
    {
     "data": {
      "text/plain": [
       "'hello'"
      ]
     },
     "execution_count": 38,
     "metadata": {},
     "output_type": "execute_result"
    }
   ],
   "execution_count": 38
  },
  {
   "metadata": {
    "ExecuteTime": {
     "end_time": "2025-07-09T07:50:12.000496Z",
     "start_time": "2025-07-09T07:50:11.989519Z"
    }
   },
   "cell_type": "code",
   "source": "not 'hello'",
   "id": "d11cb602880f128a",
   "outputs": [
    {
     "data": {
      "text/plain": [
       "False"
      ]
     },
     "execution_count": 39,
     "metadata": {},
     "output_type": "execute_result"
    }
   ],
   "execution_count": 39
  },
  {
   "metadata": {
    "ExecuteTime": {
     "end_time": "2025-07-09T07:50:21.095582Z",
     "start_time": "2025-07-09T07:50:21.089040Z"
    }
   },
   "cell_type": "code",
   "source": "not ''",
   "id": "9e9c087616b61ab3",
   "outputs": [
    {
     "data": {
      "text/plain": [
       "True"
      ]
     },
     "execution_count": 40,
     "metadata": {},
     "output_type": "execute_result"
    }
   ],
   "execution_count": 40
  },
  {
   "metadata": {
    "ExecuteTime": {
     "end_time": "2025-07-09T07:51:02.139412Z",
     "start_time": "2025-07-09T07:51:02.132482Z"
    }
   },
   "cell_type": "code",
   "source": "'d' in 'delhi'",
   "id": "4485ca976a9174e9",
   "outputs": [
    {
     "data": {
      "text/plain": [
       "True"
      ]
     },
     "execution_count": 41,
     "metadata": {},
     "output_type": "execute_result"
    }
   ],
   "execution_count": 41
  },
  {
   "metadata": {},
   "cell_type": "markdown",
   "source": "Common functions",
   "id": "5455303fc80379c9"
  },
  {
   "metadata": {
    "ExecuteTime": {
     "end_time": "2025-07-09T07:51:49.483005Z",
     "start_time": "2025-07-09T07:51:49.477445Z"
    }
   },
   "cell_type": "code",
   "source": [
    "str = \"hello world\"\n",
    "print(len(str))"
   ],
   "id": "59e76f94c3ba644e",
   "outputs": [
    {
     "name": "stdout",
     "output_type": "stream",
     "text": [
      "11\n"
     ]
    }
   ],
   "execution_count": 42
  },
  {
   "metadata": {
    "ExecuteTime": {
     "end_time": "2025-07-09T07:52:00.326628Z",
     "start_time": "2025-07-09T07:52:00.322089Z"
    }
   },
   "cell_type": "code",
   "source": "print(max(str))  # as per ascii",
   "id": "92bdad13ce6991d3",
   "outputs": [
    {
     "name": "stdout",
     "output_type": "stream",
     "text": [
      "w\n"
     ]
    }
   ],
   "execution_count": 43
  },
  {
   "metadata": {
    "ExecuteTime": {
     "end_time": "2025-07-09T07:52:10.909995Z",
     "start_time": "2025-07-09T07:52:10.907104Z"
    }
   },
   "cell_type": "code",
   "source": "print(min(str)) # space is min",
   "id": "6bf89a35379d237f",
   "outputs": [
    {
     "name": "stdout",
     "output_type": "stream",
     "text": [
      " \n"
     ]
    }
   ],
   "execution_count": 44
  },
  {
   "metadata": {
    "ExecuteTime": {
     "end_time": "2025-07-09T07:52:31.317334Z",
     "start_time": "2025-07-09T07:52:31.309654Z"
    }
   },
   "cell_type": "code",
   "source": "print(sorted(str))  # output will be list not string",
   "id": "64cf7f688795ac33",
   "outputs": [
    {
     "name": "stdout",
     "output_type": "stream",
     "text": [
      "[' ', 'd', 'e', 'h', 'l', 'l', 'l', 'o', 'o', 'r', 'w']\n"
     ]
    }
   ],
   "execution_count": 45
  },
  {
   "metadata": {
    "ExecuteTime": {
     "end_time": "2025-07-09T07:53:19.117482Z",
     "start_time": "2025-07-09T07:53:19.109160Z"
    }
   },
   "cell_type": "code",
   "source": "print(''.join(sorted(str)))",
   "id": "4c6b6077e5759d09",
   "outputs": [
    {
     "name": "stdout",
     "output_type": "stream",
     "text": [
      " dehllloorw\n"
     ]
    }
   ],
   "execution_count": 46
  },
  {
   "metadata": {
    "ExecuteTime": {
     "end_time": "2025-07-09T07:53:32.878236Z",
     "start_time": "2025-07-09T07:53:32.873175Z"
    }
   },
   "cell_type": "code",
   "source": "print(sorted(str, reverse=True))",
   "id": "1b4cd417a485ad7",
   "outputs": [
    {
     "name": "stdout",
     "output_type": "stream",
     "text": [
      "['w', 'r', 'o', 'o', 'l', 'l', 'l', 'h', 'e', 'd', ' ']\n"
     ]
    }
   ],
   "execution_count": 47
  },
  {
   "metadata": {
    "ExecuteTime": {
     "end_time": "2025-07-09T07:55:07.597391Z",
     "start_time": "2025-07-09T07:55:07.587886Z"
    }
   },
   "cell_type": "code",
   "source": "print(str.capitalize()) # fist character upper case rest lowers",
   "id": "8f457f91c533f04f",
   "outputs": [
    {
     "name": "stdout",
     "output_type": "stream",
     "text": [
      "Strrt\n"
     ]
    }
   ],
   "execution_count": 50
  },
  {
   "metadata": {
    "ExecuteTime": {
     "end_time": "2025-07-09T07:55:19.047303Z",
     "start_time": "2025-07-09T07:55:19.040749Z"
    }
   },
   "cell_type": "code",
   "source": "print('strEWR'.capitalize())",
   "id": "4483c06840d93d66",
   "outputs": [
    {
     "name": "stdout",
     "output_type": "stream",
     "text": [
      "Strewr\n"
     ]
    }
   ],
   "execution_count": 51
  },
  {
   "metadata": {
    "ExecuteTime": {
     "end_time": "2025-07-09T07:55:31.517433Z",
     "start_time": "2025-07-09T07:55:31.509349Z"
    }
   },
   "cell_type": "code",
   "source": "print(str.title()) # each word start with uppercase",
   "id": "7d264a387930307b",
   "outputs": [
    {
     "name": "stdout",
     "output_type": "stream",
     "text": [
      "Hello World\n"
     ]
    }
   ],
   "execution_count": 52
  },
  {
   "metadata": {
    "ExecuteTime": {
     "end_time": "2025-07-09T07:56:18.087441Z",
     "start_time": "2025-07-09T07:56:18.081902Z"
    }
   },
   "cell_type": "code",
   "source": [
    "print(str.upper())\n",
    "print(str)"
   ],
   "id": "33a33f0c510758cb",
   "outputs": [
    {
     "name": "stdout",
     "output_type": "stream",
     "text": [
      "HELLO WORLD\n",
      "hello world\n"
     ]
    }
   ],
   "execution_count": 53
  },
  {
   "metadata": {
    "ExecuteTime": {
     "end_time": "2025-07-09T07:56:31.651840Z",
     "start_time": "2025-07-09T07:56:31.648824Z"
    }
   },
   "cell_type": "code",
   "source": "print('sGGGG'.lower())",
   "id": "28c5bf10fb8a2440",
   "outputs": [
    {
     "name": "stdout",
     "output_type": "stream",
     "text": [
      "sgggg\n"
     ]
    }
   ],
   "execution_count": 54
  },
  {
   "metadata": {
    "ExecuteTime": {
     "end_time": "2025-07-09T07:56:52.315765Z",
     "start_time": "2025-07-09T07:56:52.310259Z"
    }
   },
   "cell_type": "code",
   "source": "print('HelERknk'.swapcase())",
   "id": "14180e0d1461a0cb",
   "outputs": [
    {
     "name": "stdout",
     "output_type": "stream",
     "text": [
      "hELerKNK\n"
     ]
    }
   ],
   "execution_count": 55
  },
  {
   "metadata": {
    "ExecuteTime": {
     "end_time": "2025-07-09T07:57:18.106883Z",
     "start_time": "2025-07-09T07:57:18.101Z"
    }
   },
   "cell_type": "code",
   "source": [
    "# count\n",
    "print('hello world'.count('l'))"
   ],
   "id": "4c659569e6e73240",
   "outputs": [
    {
     "name": "stdout",
     "output_type": "stream",
     "text": [
      "3\n"
     ]
    }
   ],
   "execution_count": 56
  },
  {
   "metadata": {
    "ExecuteTime": {
     "end_time": "2025-07-09T07:57:50.434797Z",
     "start_time": "2025-07-09T07:57:50.428770Z"
    }
   },
   "cell_type": "code",
   "source": [
    "# find \n",
    "print('hello hello world'.find('lo')) \n",
    "# first index of substring"
   ],
   "id": "2b3bc51c41e0ac25",
   "outputs": [
    {
     "name": "stdout",
     "output_type": "stream",
     "text": [
      "3\n"
     ]
    }
   ],
   "execution_count": 58
  },
  {
   "metadata": {
    "ExecuteTime": {
     "end_time": "2025-07-09T07:58:14.743840Z",
     "start_time": "2025-07-09T07:58:14.737815Z"
    }
   },
   "cell_type": "code",
   "source": [
    "print('hello hello world'.find('np'))\n",
    "# -1 if not found"
   ],
   "id": "7931c6173ebfb1ac",
   "outputs": [
    {
     "name": "stdout",
     "output_type": "stream",
     "text": [
      "-1\n"
     ]
    }
   ],
   "execution_count": 59
  },
  {
   "metadata": {
    "ExecuteTime": {
     "end_time": "2025-07-09T07:59:02.473073Z",
     "start_time": "2025-07-09T07:59:02.468060Z"
    }
   },
   "cell_type": "code",
   "source": "print('hello hello world'.index('lo'))",
   "id": "bcde764097f46f3a",
   "outputs": [
    {
     "name": "stdout",
     "output_type": "stream",
     "text": [
      "3\n"
     ]
    }
   ],
   "execution_count": 60
  },
  {
   "metadata": {
    "ExecuteTime": {
     "end_time": "2025-07-09T07:59:11.889170Z",
     "start_time": "2025-07-09T07:59:11.866877Z"
    }
   },
   "cell_type": "code",
   "source": "print('hello hello world'.index('np'))",
   "id": "c7dd0041f313e977",
   "outputs": [
    {
     "ename": "ValueError",
     "evalue": "substring not found",
     "output_type": "error",
     "traceback": [
      "\u001B[31m---------------------------------------------------------------------------\u001B[39m",
      "\u001B[31mValueError\u001B[39m                                Traceback (most recent call last)",
      "\u001B[36mCell\u001B[39m\u001B[36m \u001B[39m\u001B[32mIn[61]\u001B[39m\u001B[32m, line 1\u001B[39m\n\u001B[32m----> \u001B[39m\u001B[32m1\u001B[39m \u001B[38;5;28mprint\u001B[39m(\u001B[33m'\u001B[39m\u001B[33mhello hello world\u001B[39m\u001B[33m'\u001B[39m.index(\u001B[33m'\u001B[39m\u001B[33mnp\u001B[39m\u001B[33m'\u001B[39m))\n",
      "\u001B[31mValueError\u001B[39m: substring not found"
     ]
    }
   ],
   "execution_count": 61
  },
  {
   "metadata": {},
   "cell_type": "markdown",
   "source": "index is similar to find but error in case of not found",
   "id": "6631e8cb1f1cc385"
  },
  {
   "metadata": {
    "ExecuteTime": {
     "end_time": "2025-07-09T07:59:48.438688Z",
     "start_time": "2025-07-09T07:59:48.433458Z"
    }
   },
   "cell_type": "code",
   "source": "print('hello hello world'.endswith('np'))",
   "id": "b2e7642dda5f2e5c",
   "outputs": [
    {
     "name": "stdout",
     "output_type": "stream",
     "text": [
      "False\n"
     ]
    }
   ],
   "execution_count": 62
  },
  {
   "metadata": {
    "ExecuteTime": {
     "end_time": "2025-07-09T07:59:54.837067Z",
     "start_time": "2025-07-09T07:59:54.834660Z"
    }
   },
   "cell_type": "code",
   "source": "print('hello hello world'.endswith('ld'))",
   "id": "663eb680425e1904",
   "outputs": [
    {
     "name": "stdout",
     "output_type": "stream",
     "text": [
      "True\n"
     ]
    }
   ],
   "execution_count": 63
  },
  {
   "metadata": {
    "ExecuteTime": {
     "end_time": "2025-07-09T08:00:04.043582Z",
     "start_time": "2025-07-09T08:00:04.039204Z"
    }
   },
   "cell_type": "code",
   "source": "print('hello hello world'.startswith('ld'))",
   "id": "80d40b2140831fbf",
   "outputs": [
    {
     "name": "stdout",
     "output_type": "stream",
     "text": [
      "False\n"
     ]
    }
   ],
   "execution_count": 64
  },
  {
   "metadata": {
    "ExecuteTime": {
     "end_time": "2025-07-09T08:00:11.834899Z",
     "start_time": "2025-07-09T08:00:11.832516Z"
    }
   },
   "cell_type": "code",
   "source": "print('hello hello world'.startswith('hel'))",
   "id": "c5f96f3448e9bd0b",
   "outputs": [
    {
     "name": "stdout",
     "output_type": "stream",
     "text": [
      "True\n"
     ]
    }
   ],
   "execution_count": 65
  },
  {
   "metadata": {
    "ExecuteTime": {
     "end_time": "2025-07-09T08:01:10.403868Z",
     "start_time": "2025-07-09T08:01:10.391070Z"
    }
   },
   "cell_type": "code",
   "source": [
    "name = 'Shreyans'\n",
    "gender = 'male'\n",
    "\n",
    "'my name is {} and gender is {}'.format(name, gender)"
   ],
   "id": "5aecda67e25d1d6f",
   "outputs": [
    {
     "data": {
      "text/plain": [
       "'my name is Shreyans and gender is male'"
      ]
     },
     "execution_count": 66,
     "metadata": {},
     "output_type": "execute_result"
    }
   ],
   "execution_count": 66
  },
  {
   "metadata": {
    "ExecuteTime": {
     "end_time": "2025-07-09T08:15:38.197784Z",
     "start_time": "2025-07-09T08:15:38.184719Z"
    }
   },
   "cell_type": "code",
   "source": "'shrey123'.isalnum()",
   "id": "b1b1fd0a5e54404a",
   "outputs": [
    {
     "data": {
      "text/plain": [
       "True"
      ]
     },
     "execution_count": 67,
     "metadata": {},
     "output_type": "execute_result"
    }
   ],
   "execution_count": 67
  },
  {
   "metadata": {
    "ExecuteTime": {
     "end_time": "2025-07-09T08:15:50.270571Z",
     "start_time": "2025-07-09T08:15:50.265971Z"
    }
   },
   "cell_type": "code",
   "source": "'shrey123#'.isalnum()",
   "id": "f6dca5ad1f0fba9b",
   "outputs": [
    {
     "data": {
      "text/plain": [
       "False"
      ]
     },
     "execution_count": 68,
     "metadata": {},
     "output_type": "execute_result"
    }
   ],
   "execution_count": 68
  },
  {
   "metadata": {
    "ExecuteTime": {
     "end_time": "2025-07-09T08:16:04.795154Z",
     "start_time": "2025-07-09T08:16:04.785898Z"
    }
   },
   "cell_type": "code",
   "source": "'shrey'.isalpha()",
   "id": "187399e58b11004d",
   "outputs": [
    {
     "data": {
      "text/plain": [
       "True"
      ]
     },
     "execution_count": 69,
     "metadata": {},
     "output_type": "execute_result"
    }
   ],
   "execution_count": 69
  },
  {
   "metadata": {
    "ExecuteTime": {
     "end_time": "2025-07-09T08:16:12.146320Z",
     "start_time": "2025-07-09T08:16:12.143453Z"
    }
   },
   "cell_type": "code",
   "source": "'shrey123'.isalpha()",
   "id": "c7aa9940eb9fbd6a",
   "outputs": [
    {
     "data": {
      "text/plain": [
       "False"
      ]
     },
     "execution_count": 70,
     "metadata": {},
     "output_type": "execute_result"
    }
   ],
   "execution_count": 70
  },
  {
   "metadata": {
    "ExecuteTime": {
     "end_time": "2025-07-09T08:16:28.596329Z",
     "start_time": "2025-07-09T08:16:28.590828Z"
    }
   },
   "cell_type": "code",
   "source": "'123'.isdigit()",
   "id": "651a65c9486aeb04",
   "outputs": [
    {
     "data": {
      "text/plain": [
       "True"
      ]
     },
     "execution_count": 71,
     "metadata": {},
     "output_type": "execute_result"
    }
   ],
   "execution_count": 71
  },
  {
   "metadata": {
    "ExecuteTime": {
     "end_time": "2025-07-09T08:16:35.646711Z",
     "start_time": "2025-07-09T08:16:35.643609Z"
    }
   },
   "cell_type": "code",
   "source": "'123f'.isdigit()",
   "id": "32179ac4390bfe4b",
   "outputs": [
    {
     "data": {
      "text/plain": [
       "False"
      ]
     },
     "execution_count": 72,
     "metadata": {},
     "output_type": "execute_result"
    }
   ],
   "execution_count": 72
  },
  {
   "metadata": {
    "ExecuteTime": {
     "end_time": "2025-07-09T08:17:07.790285Z",
     "start_time": "2025-07-09T08:17:07.785471Z"
    }
   },
   "cell_type": "code",
   "source": "'name1'.isidentifier()",
   "id": "cba5142c02a25628",
   "outputs": [
    {
     "data": {
      "text/plain": [
       "True"
      ]
     },
     "execution_count": 74,
     "metadata": {},
     "output_type": "execute_result"
    }
   ],
   "execution_count": 74
  },
  {
   "metadata": {
    "ExecuteTime": {
     "end_time": "2025-07-09T08:17:09.687139Z",
     "start_time": "2025-07-09T08:17:09.684084Z"
    }
   },
   "cell_type": "code",
   "source": "'1name'.isidentifier()",
   "id": "a7942baf7dd0df8d",
   "outputs": [
    {
     "data": {
      "text/plain": [
       "False"
      ]
     },
     "execution_count": 75,
     "metadata": {},
     "output_type": "execute_result"
    }
   ],
   "execution_count": 75
  },
  {
   "metadata": {
    "ExecuteTime": {
     "end_time": "2025-07-09T08:17:35.078697Z",
     "start_time": "2025-07-09T08:17:35.073518Z"
    }
   },
   "cell_type": "code",
   "source": "'hello world'.split()",
   "id": "82e70f1c7d0cae7c",
   "outputs": [
    {
     "data": {
      "text/plain": [
       "['hello', 'world']"
      ]
     },
     "execution_count": 76,
     "metadata": {},
     "output_type": "execute_result"
    }
   ],
   "execution_count": 76
  },
  {
   "metadata": {
    "ExecuteTime": {
     "end_time": "2025-07-09T08:23:12.702249Z",
     "start_time": "2025-07-09T08:23:12.696834Z"
    }
   },
   "cell_type": "code",
   "source": [
    "'hello world'.split('l')\n",
    "# between he and first 'l' → 'he'\n",
    "# Between first and second 'l' → '' (empty string)\n",
    "# Between second and third 'l' → 'o wor'\n",
    "# After third 'l' → 'd'"
   ],
   "id": "b1d888ba33a1d420",
   "outputs": [
    {
     "data": {
      "text/plain": [
       "['he', '', 'o wor', 'd']"
      ]
     },
     "execution_count": 79,
     "metadata": {},
     "output_type": "execute_result"
    }
   ],
   "execution_count": 79
  },
  {
   "metadata": {
    "ExecuteTime": {
     "end_time": "2025-07-09T08:23:58.641736Z",
     "start_time": "2025-07-09T08:23:58.635423Z"
    }
   },
   "cell_type": "code",
   "source": "''.join(['1','5', 'dhr'])",
   "id": "5336cc3bbc5ad58e",
   "outputs": [
    {
     "data": {
      "text/plain": [
       "'15dhr'"
      ]
     },
     "execution_count": 80,
     "metadata": {},
     "output_type": "execute_result"
    }
   ],
   "execution_count": 80
  },
  {
   "metadata": {
    "ExecuteTime": {
     "end_time": "2025-07-09T08:24:03.914869Z",
     "start_time": "2025-07-09T08:24:03.912105Z"
    }
   },
   "cell_type": "code",
   "source": "' '.join(['1','5', 'dhr'])",
   "id": "ff725f8b0e356ebe",
   "outputs": [
    {
     "data": {
      "text/plain": [
       "'1 5 dhr'"
      ]
     },
     "execution_count": 81,
     "metadata": {},
     "output_type": "execute_result"
    }
   ],
   "execution_count": 81
  },
  {
   "metadata": {
    "ExecuteTime": {
     "end_time": "2025-07-09T08:24:11.266222Z",
     "start_time": "2025-07-09T08:24:11.263801Z"
    }
   },
   "cell_type": "code",
   "source": "'/'.join(['1','5', 'dhr'])",
   "id": "582741134fcfd89c",
   "outputs": [
    {
     "data": {
      "text/plain": [
       "'1/5/dhr'"
      ]
     },
     "execution_count": 82,
     "metadata": {},
     "output_type": "execute_result"
    }
   ],
   "execution_count": 82
  },
  {
   "metadata": {
    "ExecuteTime": {
     "end_time": "2025-07-09T08:24:48.833425Z",
     "start_time": "2025-07-09T08:24:48.826526Z"
    }
   },
   "cell_type": "code",
   "source": "\"shreyans\".replace(\"ans\", \" patel\")",
   "id": "c7442a28bc9ff80b",
   "outputs": [
    {
     "data": {
      "text/plain": [
       "'shrey patel'"
      ]
     },
     "execution_count": 83,
     "metadata": {},
     "output_type": "execute_result"
    }
   ],
   "execution_count": 83
  },
  {
   "metadata": {
    "ExecuteTime": {
     "end_time": "2025-07-09T08:26:18.436737Z",
     "start_time": "2025-07-09T08:26:18.427512Z"
    }
   },
   "cell_type": "code",
   "source": "\"  shreyans      sureja   \".strip()  # remove leading and trailing whitespace",
   "id": "6d03b4cd7d35d245",
   "outputs": [
    {
     "data": {
      "text/plain": [
       "'shreyans      sureja'"
      ]
     },
     "execution_count": 89,
     "metadata": {},
     "output_type": "execute_result"
    }
   ],
   "execution_count": 89
  },
  {
   "metadata": {
    "ExecuteTime": {
     "end_time": "2025-07-09T08:26:09.306057Z",
     "start_time": "2025-07-09T08:26:09.296559Z"
    }
   },
   "cell_type": "code",
   "source": "'  '.strip()",
   "id": "d15631376166f11b",
   "outputs": [
    {
     "data": {
      "text/plain": [
       "''"
      ]
     },
     "execution_count": 87,
     "metadata": {},
     "output_type": "execute_result"
    }
   ],
   "execution_count": 87
  },
  {
   "metadata": {},
   "cell_type": "code",
   "outputs": [],
   "execution_count": null,
   "source": "",
   "id": "c8fa2c204914f2fa"
  }
 ],
 "metadata": {
  "kernelspec": {
   "display_name": "Python 3",
   "language": "python",
   "name": "python3"
  },
  "language_info": {
   "codemirror_mode": {
    "name": "ipython",
    "version": 2
   },
   "file_extension": ".py",
   "mimetype": "text/x-python",
   "name": "python",
   "nbconvert_exporter": "python",
   "pygments_lexer": "ipython2",
   "version": "2.7.6"
  }
 },
 "nbformat": 4,
 "nbformat_minor": 5
}
