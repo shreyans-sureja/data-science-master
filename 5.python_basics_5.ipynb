{
 "cells": [
  {
   "cell_type": "code",
   "id": "initial_id",
   "metadata": {
    "collapsed": true,
    "ExecuteTime": {
     "end_time": "2025-07-15T03:57:18.930719Z",
     "start_time": "2025-07-15T03:57:18.927128Z"
    }
   },
   "source": "print(\"Hello world\")",
   "outputs": [
    {
     "name": "stdout",
     "output_type": "stream",
     "text": [
      "Hello world\n"
     ]
    }
   ],
   "execution_count": 109
  },
  {
   "metadata": {},
   "cell_type": "markdown",
   "source": "tuple is immutable list ",
   "id": "a4cefa62501ac831"
  },
  {
   "metadata": {
    "ExecuteTime": {
     "end_time": "2025-07-15T03:57:19.343833Z",
     "start_time": "2025-07-15T03:57:19.341815Z"
    }
   },
   "cell_type": "code",
   "source": [
    "a = (1,2)\n",
    "print(a)"
   ],
   "id": "b8b8520dfb913f10",
   "outputs": [
    {
     "name": "stdout",
     "output_type": "stream",
     "text": [
      "(1, 2)\n"
     ]
    }
   ],
   "execution_count": 110
  },
  {
   "metadata": {
    "ExecuteTime": {
     "end_time": "2025-07-15T03:57:19.357397Z",
     "start_time": "2025-07-15T03:57:19.355612Z"
    }
   },
   "cell_type": "code",
   "source": [
    "t1 = ()\n",
    "print(t1)"
   ],
   "id": "18026828d283bca9",
   "outputs": [
    {
     "name": "stdout",
     "output_type": "stream",
     "text": [
      "()\n"
     ]
    }
   ],
   "execution_count": 111
  },
  {
   "metadata": {
    "ExecuteTime": {
     "end_time": "2025-07-15T03:57:19.374729Z",
     "start_time": "2025-07-15T03:57:19.372764Z"
    }
   },
   "cell_type": "code",
   "source": [
    "t2 = (2)\n",
    "print(t2, type(2))\n",
    "t2 = (2,)\n",
    "print(t2, type(t2))"
   ],
   "id": "65003cc4961e40f0",
   "outputs": [
    {
     "name": "stdout",
     "output_type": "stream",
     "text": [
      "2 <class 'int'>\n",
      "(2,) <class 'tuple'>\n"
     ]
    }
   ],
   "execution_count": 112
  },
  {
   "metadata": {
    "ExecuteTime": {
     "end_time": "2025-07-15T03:57:19.424078Z",
     "start_time": "2025-07-15T03:57:19.422005Z"
    }
   },
   "cell_type": "code",
   "source": [
    "t4 = (1, \"2\", [24,4], (3,4,))\n",
    "print(t4)"
   ],
   "id": "a49a751c0cf08b7",
   "outputs": [
    {
     "name": "stdout",
     "output_type": "stream",
     "text": [
      "(1, '2', [24, 4], (3, 4))\n"
     ]
    }
   ],
   "execution_count": 113
  },
  {
   "metadata": {
    "ExecuteTime": {
     "end_time": "2025-07-15T03:57:19.434772Z",
     "start_time": "2025-07-15T03:57:19.432888Z"
    }
   },
   "cell_type": "code",
   "source": [
    "t5 = tuple(\"hello\")\n",
    "print(t5)"
   ],
   "id": "3d02a04ef2691723",
   "outputs": [
    {
     "name": "stdout",
     "output_type": "stream",
     "text": [
      "('h', 'e', 'l', 'l', 'o')\n"
     ]
    }
   ],
   "execution_count": 114
  },
  {
   "metadata": {
    "ExecuteTime": {
     "end_time": "2025-07-15T03:57:19.451475Z",
     "start_time": "2025-07-15T03:57:19.449762Z"
    }
   },
   "cell_type": "code",
   "source": "print(t4[1])",
   "id": "fa14a546092ae54b",
   "outputs": [
    {
     "name": "stdout",
     "output_type": "stream",
     "text": [
      "2\n"
     ]
    }
   ],
   "execution_count": 115
  },
  {
   "metadata": {
    "ExecuteTime": {
     "end_time": "2025-07-15T03:57:19.489978Z",
     "start_time": "2025-07-15T03:57:19.488011Z"
    }
   },
   "cell_type": "code",
   "source": "print(t4[1:])",
   "id": "fb3636b506d1e89d",
   "outputs": [
    {
     "name": "stdout",
     "output_type": "stream",
     "text": [
      "('2', [24, 4], (3, 4))\n"
     ]
    }
   ],
   "execution_count": 116
  },
  {
   "metadata": {
    "ExecuteTime": {
     "end_time": "2025-07-15T03:57:19.507884Z",
     "start_time": "2025-07-15T03:57:19.506266Z"
    }
   },
   "cell_type": "code",
   "source": [
    "print(t4)\n",
    "print(t4[2][1])"
   ],
   "id": "db66025d5c249c4f",
   "outputs": [
    {
     "name": "stdout",
     "output_type": "stream",
     "text": [
      "(1, '2', [24, 4], (3, 4))\n",
      "4\n"
     ]
    }
   ],
   "execution_count": 117
  },
  {
   "metadata": {
    "ExecuteTime": {
     "end_time": "2025-07-15T03:57:19.536233Z",
     "start_time": "2025-07-15T03:57:19.524650Z"
    }
   },
   "cell_type": "code",
   "source": "t4[1] = 3  # can't edit in tuple",
   "id": "f2b46be91e4d1676",
   "outputs": [
    {
     "ename": "TypeError",
     "evalue": "'tuple' object does not support item assignment",
     "output_type": "error",
     "traceback": [
      "\u001B[31m---------------------------------------------------------------------------\u001B[39m",
      "\u001B[31mTypeError\u001B[39m                                 Traceback (most recent call last)",
      "\u001B[36mCell\u001B[39m\u001B[36m \u001B[39m\u001B[32mIn[118]\u001B[39m\u001B[32m, line 1\u001B[39m\n\u001B[32m----> \u001B[39m\u001B[32m1\u001B[39m t4[\u001B[32m1\u001B[39m] = \u001B[32m3\u001B[39m\n",
      "\u001B[31mTypeError\u001B[39m: 'tuple' object does not support item assignment"
     ]
    }
   ],
   "execution_count": 118
  },
  {
   "metadata": {
    "ExecuteTime": {
     "end_time": "2025-07-15T03:57:19.560164Z",
     "start_time": "2025-07-15T03:57:19.547819Z"
    }
   },
   "cell_type": "code",
   "source": "del t4[1]",
   "id": "37510ea33f491b13",
   "outputs": [
    {
     "ename": "TypeError",
     "evalue": "'tuple' object doesn't support item deletion",
     "output_type": "error",
     "traceback": [
      "\u001B[31m---------------------------------------------------------------------------\u001B[39m",
      "\u001B[31mTypeError\u001B[39m                                 Traceback (most recent call last)",
      "\u001B[36mCell\u001B[39m\u001B[36m \u001B[39m\u001B[32mIn[119]\u001B[39m\u001B[32m, line 1\u001B[39m\n\u001B[32m----> \u001B[39m\u001B[32m1\u001B[39m \u001B[38;5;28;01mdel\u001B[39;00m t4[\u001B[32m1\u001B[39m]\n",
      "\u001B[31mTypeError\u001B[39m: 'tuple' object doesn't support item deletion"
     ]
    }
   ],
   "execution_count": 119
  },
  {
   "metadata": {
    "ExecuteTime": {
     "end_time": "2025-07-15T03:57:19.581293Z",
     "start_time": "2025-07-15T03:57:19.579404Z"
    }
   },
   "cell_type": "code",
   "source": "del t4  # we can delete complete tuple",
   "id": "90fb40cf3b23429a",
   "outputs": [],
   "execution_count": 120
  },
  {
   "metadata": {
    "ExecuteTime": {
     "end_time": "2025-07-15T03:57:19.829639Z",
     "start_time": "2025-07-15T03:57:19.827107Z"
    }
   },
   "cell_type": "code",
   "source": [
    "t1 = (1,2,3)\n",
    "t2 = (3,4,5)\n",
    "print(t1+ t2)"
   ],
   "id": "d92c7e9e5ed9e5c4",
   "outputs": [
    {
     "name": "stdout",
     "output_type": "stream",
     "text": [
      "(1, 2, 3, 3, 4, 5)\n"
     ]
    }
   ],
   "execution_count": 121
  },
  {
   "metadata": {},
   "cell_type": "markdown",
   "source": [
    "tuples are faster than list \\\n",
    "tuples immutable - list mutable \\\n",
    "tuples less memory usage than list"
   ],
   "id": "ed08a1a3302b8689"
  },
  {
   "metadata": {
    "ExecuteTime": {
     "end_time": "2025-07-15T03:57:19.864985Z",
     "start_time": "2025-07-15T03:57:19.863106Z"
    }
   },
   "cell_type": "code",
   "source": [
    "# tuple unpacking\n",
    "a,b,c = (1,2,3)\n",
    "print(a,b,c)"
   ],
   "id": "3508822229f716e6",
   "outputs": [
    {
     "name": "stdout",
     "output_type": "stream",
     "text": [
      "1 2 3\n"
     ]
    }
   ],
   "execution_count": 122
  },
  {
   "metadata": {
    "ExecuteTime": {
     "end_time": "2025-07-15T03:57:19.894117Z",
     "start_time": "2025-07-15T03:57:19.892246Z"
    }
   },
   "cell_type": "code",
   "source": [
    "a = [1,2]\n",
    "b = [3,4]\n",
    "\n",
    "a,b = b,a\n",
    "print(a)\n",
    "print(b)"
   ],
   "id": "addb056fad867953",
   "outputs": [
    {
     "name": "stdout",
     "output_type": "stream",
     "text": [
      "[3, 4]\n",
      "[1, 2]\n"
     ]
    }
   ],
   "execution_count": 123
  },
  {
   "metadata": {
    "ExecuteTime": {
     "end_time": "2025-07-15T03:57:19.906597Z",
     "start_time": "2025-07-15T03:57:19.904595Z"
    }
   },
   "cell_type": "code",
   "source": [
    "a,b, *others = (1,2,3,4,5,)\n",
    "print(a,b)"
   ],
   "id": "7e1e98ddeef2557e",
   "outputs": [
    {
     "name": "stdout",
     "output_type": "stream",
     "text": [
      "1 2\n"
     ]
    }
   ],
   "execution_count": 124
  },
  {
   "metadata": {
    "ExecuteTime": {
     "end_time": "2025-07-15T03:57:19.920496Z",
     "start_time": "2025-07-15T03:57:19.918718Z"
    }
   },
   "cell_type": "code",
   "source": "print(others, type(others))",
   "id": "c54811ef41ed38c2",
   "outputs": [
    {
     "name": "stdout",
     "output_type": "stream",
     "text": [
      "[3, 4, 5] <class 'list'>\n"
     ]
    }
   ],
   "execution_count": 125
  },
  {
   "metadata": {
    "ExecuteTime": {
     "end_time": "2025-07-15T03:57:19.956378Z",
     "start_time": "2025-07-15T03:57:19.953686Z"
    }
   },
   "cell_type": "code",
   "source": [
    "a = (1,2,3,4)\n",
    "b = (4,5,6,7)\n",
    "\n",
    "tuple(zip(a,b))"
   ],
   "id": "ac62f14a4112fe6",
   "outputs": [
    {
     "data": {
      "text/plain": [
       "((1, 4), (2, 5), (3, 6), (4, 7))"
      ]
     },
     "execution_count": 126,
     "metadata": {},
     "output_type": "execute_result"
    }
   ],
   "execution_count": 126
  },
  {
   "metadata": {},
   "cell_type": "markdown",
   "source": [
    "### python set is unordered\n",
    "1. UNORDERED\n",
    "2. MUTABLE\n",
    "3. NO DUPLICATE\n",
    "4. CAN'T CONTAIN MUTABLE DATA TYPE"
   ],
   "id": "c493b955c80833a6"
  },
  {
   "metadata": {
    "ExecuteTime": {
     "end_time": "2025-07-15T03:57:19.968592Z",
     "start_time": "2025-07-15T03:57:19.966921Z"
    }
   },
   "cell_type": "code",
   "source": [
    "s = {}\n",
    "print(s, type(s))"
   ],
   "id": "3dbab92fca7f5535",
   "outputs": [
    {
     "name": "stdout",
     "output_type": "stream",
     "text": [
      "{} <class 'dict'>\n"
     ]
    }
   ],
   "execution_count": 127
  },
  {
   "metadata": {
    "ExecuteTime": {
     "end_time": "2025-07-15T03:57:19.987836Z",
     "start_time": "2025-07-15T03:57:19.985763Z"
    }
   },
   "cell_type": "code",
   "source": [
    "s = set()\n",
    "print(s, type(s))"
   ],
   "id": "a7963776c7765d94",
   "outputs": [
    {
     "name": "stdout",
     "output_type": "stream",
     "text": [
      "set() <class 'set'>\n"
     ]
    }
   ],
   "execution_count": 128
  },
  {
   "metadata": {
    "ExecuteTime": {
     "end_time": "2025-07-15T03:57:20.023276Z",
     "start_time": "2025-07-15T03:57:20.021228Z"
    }
   },
   "cell_type": "code",
   "source": [
    "s = {1, 'hello', 4.5,True}\n",
    "print(s)  # true and 1 are same in python "
   ],
   "id": "eff79d9d378f8213",
   "outputs": [
    {
     "name": "stdout",
     "output_type": "stream",
     "text": [
      "{'hello', 1, 4.5}\n"
     ]
    }
   ],
   "execution_count": 129
  },
  {
   "metadata": {
    "ExecuteTime": {
     "end_time": "2025-07-15T03:57:20.051744Z",
     "start_time": "2025-07-15T03:57:20.040582Z"
    }
   },
   "cell_type": "code",
   "source": [
    "s6 = {1,2, {3,4}}\n",
    "\n",
    "# sets cant have mutable data type element"
   ],
   "id": "3cb5e52db96da74c",
   "outputs": [
    {
     "ename": "TypeError",
     "evalue": "unhashable type: 'set'",
     "output_type": "error",
     "traceback": [
      "\u001B[31m---------------------------------------------------------------------------\u001B[39m",
      "\u001B[31mTypeError\u001B[39m                                 Traceback (most recent call last)",
      "\u001B[36mCell\u001B[39m\u001B[36m \u001B[39m\u001B[32mIn[130]\u001B[39m\u001B[32m, line 1\u001B[39m\n\u001B[32m----> \u001B[39m\u001B[32m1\u001B[39m s6 = {\u001B[32m1\u001B[39m,\u001B[32m2\u001B[39m, {\u001B[32m3\u001B[39m,\u001B[32m4\u001B[39m}}\n",
      "\u001B[31mTypeError\u001B[39m: unhashable type: 'set'"
     ]
    }
   ],
   "execution_count": 130
  },
  {
   "metadata": {
    "ExecuteTime": {
     "end_time": "2025-07-15T03:57:20.064935Z",
     "start_time": "2025-07-15T03:57:20.063035Z"
    }
   },
   "cell_type": "code",
   "source": [
    "s1 = {1,2,3}\n",
    "s2 = {3,2,1}\n",
    "\n",
    "print(s1==s2)"
   ],
   "id": "e2d2d77433b59164",
   "outputs": [
    {
     "name": "stdout",
     "output_type": "stream",
     "text": [
      "True\n"
     ]
    }
   ],
   "execution_count": 131
  },
  {
   "metadata": {
    "ExecuteTime": {
     "end_time": "2025-07-15T03:57:20.093883Z",
     "start_time": "2025-07-15T03:57:20.080737Z"
    }
   },
   "cell_type": "code",
   "source": [
    "s1 = {1,2,4}\n",
    "print(s1[1:])"
   ],
   "id": "db52ba38d2221c8b",
   "outputs": [
    {
     "ename": "TypeError",
     "evalue": "'set' object is not subscriptable",
     "output_type": "error",
     "traceback": [
      "\u001B[31m---------------------------------------------------------------------------\u001B[39m",
      "\u001B[31mTypeError\u001B[39m                                 Traceback (most recent call last)",
      "\u001B[36mCell\u001B[39m\u001B[36m \u001B[39m\u001B[32mIn[132]\u001B[39m\u001B[32m, line 2\u001B[39m\n\u001B[32m      1\u001B[39m s1 = {\u001B[32m1\u001B[39m,\u001B[32m2\u001B[39m,\u001B[32m4\u001B[39m}\n\u001B[32m----> \u001B[39m\u001B[32m2\u001B[39m \u001B[38;5;28mprint\u001B[39m(s1[\u001B[32m1\u001B[39m:])\n",
      "\u001B[31mTypeError\u001B[39m: 'set' object is not subscriptable"
     ]
    }
   ],
   "execution_count": 132
  },
  {
   "metadata": {
    "ExecuteTime": {
     "end_time": "2025-07-15T03:57:20.133300Z",
     "start_time": "2025-07-15T03:57:20.115722Z"
    }
   },
   "cell_type": "code",
   "source": [
    "s1[1] = 34\n",
    "print(s1)"
   ],
   "id": "bd99108de4a99f3c",
   "outputs": [
    {
     "ename": "TypeError",
     "evalue": "'set' object does not support item assignment",
     "output_type": "error",
     "traceback": [
      "\u001B[31m---------------------------------------------------------------------------\u001B[39m",
      "\u001B[31mTypeError\u001B[39m                                 Traceback (most recent call last)",
      "\u001B[36mCell\u001B[39m\u001B[36m \u001B[39m\u001B[32mIn[133]\u001B[39m\u001B[32m, line 1\u001B[39m\n\u001B[32m----> \u001B[39m\u001B[32m1\u001B[39m s1[\u001B[32m1\u001B[39m] = \u001B[32m34\u001B[39m\n\u001B[32m      2\u001B[39m \u001B[38;5;28mprint\u001B[39m(s1)\n",
      "\u001B[31mTypeError\u001B[39m: 'set' object does not support item assignment"
     ]
    }
   ],
   "execution_count": 133
  },
  {
   "metadata": {
    "ExecuteTime": {
     "end_time": "2025-07-15T03:57:20.152401Z",
     "start_time": "2025-07-15T03:57:20.149702Z"
    }
   },
   "cell_type": "code",
   "source": [
    "s1.add(452)\n",
    "print(s1)"
   ],
   "id": "9c1b3746abebf4ae",
   "outputs": [
    {
     "name": "stdout",
     "output_type": "stream",
     "text": [
      "{1, 2, 452, 4}\n"
     ]
    }
   ],
   "execution_count": 134
  },
  {
   "metadata": {
    "ExecuteTime": {
     "end_time": "2025-07-15T03:57:20.183540Z",
     "start_time": "2025-07-15T03:57:20.181301Z"
    }
   },
   "cell_type": "code",
   "source": "s1.update(['rrev', \"3fhg4\"])",
   "id": "1f6a8bd784f6e1c1",
   "outputs": [],
   "execution_count": 135
  },
  {
   "metadata": {
    "ExecuteTime": {
     "end_time": "2025-07-15T03:57:20.228186Z",
     "start_time": "2025-07-15T03:57:20.225243Z"
    }
   },
   "cell_type": "code",
   "source": "print(s1)",
   "id": "cfbbd980a9155bb9",
   "outputs": [
    {
     "name": "stdout",
     "output_type": "stream",
     "text": [
      "{1, 2, '3fhg4', 452, 4, 'rrev'}\n"
     ]
    }
   ],
   "execution_count": 136
  },
  {
   "metadata": {
    "ExecuteTime": {
     "end_time": "2025-07-15T03:57:20.246698Z",
     "start_time": "2025-07-15T03:57:20.244627Z"
    }
   },
   "cell_type": "code",
   "source": [
    "s1.discard(4)\n",
    "print(s1)"
   ],
   "id": "6ca6f3a3a181f101",
   "outputs": [
    {
     "name": "stdout",
     "output_type": "stream",
     "text": [
      "{1, 2, '3fhg4', 452, 'rrev'}\n"
     ]
    }
   ],
   "execution_count": 137
  },
  {
   "metadata": {
    "ExecuteTime": {
     "end_time": "2025-07-15T03:57:20.261340Z",
     "start_time": "2025-07-15T03:57:20.258789Z"
    }
   },
   "cell_type": "code",
   "source": [
    "s1.remove(2) # throw error if element not found\n",
    "print(s1)"
   ],
   "id": "35c8869616de92a5",
   "outputs": [
    {
     "name": "stdout",
     "output_type": "stream",
     "text": [
      "{1, '3fhg4', 452, 'rrev'}\n"
     ]
    }
   ],
   "execution_count": 138
  },
  {
   "metadata": {
    "ExecuteTime": {
     "end_time": "2025-07-15T03:57:20.303355Z",
     "start_time": "2025-07-15T03:57:20.300984Z"
    }
   },
   "cell_type": "code",
   "source": [
    "s1.pop()   # random item deletion\n",
    "print(s1)"
   ],
   "id": "fdba61806449d22e",
   "outputs": [
    {
     "name": "stdout",
     "output_type": "stream",
     "text": [
      "{'3fhg4', 452, 'rrev'}\n"
     ]
    }
   ],
   "execution_count": 139
  },
  {
   "metadata": {
    "ExecuteTime": {
     "end_time": "2025-07-15T03:57:20.329172Z",
     "start_time": "2025-07-15T03:57:20.326725Z"
    }
   },
   "cell_type": "code",
   "source": [
    "s1.clear()\n",
    "print(s1)"
   ],
   "id": "28c52568d05a1ebd",
   "outputs": [
    {
     "name": "stdout",
     "output_type": "stream",
     "text": [
      "set()\n"
     ]
    }
   ],
   "execution_count": 140
  },
  {
   "metadata": {
    "ExecuteTime": {
     "end_time": "2025-07-15T03:57:20.349660Z",
     "start_time": "2025-07-15T03:57:20.347013Z"
    }
   },
   "cell_type": "code",
   "source": [
    "s1 = {1,2,3}\n",
    "s2 = {1,2,3}\n",
    "\n",
    "print(type(s1))\n",
    "print(s1==s2)"
   ],
   "id": "c0cf9a8f5bbcc3ad",
   "outputs": [
    {
     "name": "stdout",
     "output_type": "stream",
     "text": [
      "<class 'set'>\n",
      "True\n"
     ]
    }
   ],
   "execution_count": 141
  },
  {
   "metadata": {},
   "cell_type": "markdown",
   "source": "Set operations",
   "id": "72353a709c6b0d12"
  },
  {
   "metadata": {
    "ExecuteTime": {
     "end_time": "2025-07-15T03:57:20.374219Z",
     "start_time": "2025-07-15T03:57:20.371303Z"
    }
   },
   "cell_type": "code",
   "source": [
    "# union\n",
    "s2 = {4,5,6}\n",
    "print(s1 | s2)"
   ],
   "id": "bec246667f0fb143",
   "outputs": [
    {
     "name": "stdout",
     "output_type": "stream",
     "text": [
      "{1, 2, 3, 4, 5, 6}\n"
     ]
    }
   ],
   "execution_count": 142
  },
  {
   "metadata": {
    "ExecuteTime": {
     "end_time": "2025-07-15T03:57:20.416202Z",
     "start_time": "2025-07-15T03:57:20.414475Z"
    }
   },
   "cell_type": "code",
   "source": [
    "#intersection\n",
    "print(s1 & s2)"
   ],
   "id": "d3064d7af53d37fa",
   "outputs": [
    {
     "name": "stdout",
     "output_type": "stream",
     "text": [
      "set()\n"
     ]
    }
   ],
   "execution_count": 143
  },
  {
   "metadata": {
    "ExecuteTime": {
     "end_time": "2025-07-15T03:57:20.428191Z",
     "start_time": "2025-07-15T03:57:20.426327Z"
    }
   },
   "cell_type": "code",
   "source": [
    "# difference\n",
    "print(s1 - s2)"
   ],
   "id": "a756430a49e0d7ae",
   "outputs": [
    {
     "name": "stdout",
     "output_type": "stream",
     "text": [
      "{1, 2, 3}\n"
     ]
    }
   ],
   "execution_count": 144
  },
  {
   "metadata": {
    "ExecuteTime": {
     "end_time": "2025-07-15T03:57:20.443804Z",
     "start_time": "2025-07-15T03:57:20.442071Z"
    }
   },
   "cell_type": "code",
   "source": "print(s2- s1)",
   "id": "98a0423ceb8102c0",
   "outputs": [
    {
     "name": "stdout",
     "output_type": "stream",
     "text": [
      "{4, 5, 6}\n"
     ]
    }
   ],
   "execution_count": 145
  },
  {
   "metadata": {
    "ExecuteTime": {
     "end_time": "2025-07-15T03:57:20.481124Z",
     "start_time": "2025-07-15T03:57:20.479343Z"
    }
   },
   "cell_type": "code",
   "source": [
    "# symmetric difference, everything other than common\n",
    "print(s1 ^ s2)"
   ],
   "id": "83de3d0eb9c12d9b",
   "outputs": [
    {
     "name": "stdout",
     "output_type": "stream",
     "text": [
      "{1, 2, 3, 4, 5, 6}\n"
     ]
    }
   ],
   "execution_count": 146
  },
  {
   "metadata": {
    "ExecuteTime": {
     "end_time": "2025-07-15T03:57:20.495280Z",
     "start_time": "2025-07-15T03:57:20.493509Z"
    }
   },
   "cell_type": "code",
   "source": "print(40 in s1)",
   "id": "304e130b30ed7c1",
   "outputs": [
    {
     "name": "stdout",
     "output_type": "stream",
     "text": [
      "False\n"
     ]
    }
   ],
   "execution_count": 147
  },
  {
   "metadata": {
    "ExecuteTime": {
     "end_time": "2025-07-15T03:57:20.513148Z",
     "start_time": "2025-07-15T03:57:20.511417Z"
    }
   },
   "cell_type": "code",
   "source": [
    "for i in s1:\n",
    "    print(i)"
   ],
   "id": "2abc4c844faa8a87",
   "outputs": [
    {
     "name": "stdout",
     "output_type": "stream",
     "text": [
      "1\n",
      "2\n",
      "3\n"
     ]
    }
   ],
   "execution_count": 148
  },
  {
   "metadata": {
    "ExecuteTime": {
     "end_time": "2025-07-15T03:57:20.535052Z",
     "start_time": "2025-07-15T03:57:20.533028Z"
    }
   },
   "cell_type": "code",
   "source": [
    "print(len(s1))\n",
    "print(min(s1))\n",
    "print(max(s1))\n",
    "print(sorted(s1))"
   ],
   "id": "155d6ffcfc41221",
   "outputs": [
    {
     "name": "stdout",
     "output_type": "stream",
     "text": [
      "3\n",
      "1\n",
      "3\n",
      "[1, 2, 3]\n"
     ]
    }
   ],
   "execution_count": 149
  },
  {
   "metadata": {
    "ExecuteTime": {
     "end_time": "2025-07-15T03:57:20.557036Z",
     "start_time": "2025-07-15T03:57:20.555298Z"
    }
   },
   "cell_type": "code",
   "source": [
    "d2 = {5,4,3,3,2}\n",
    "print(d2)"
   ],
   "id": "ddbe6173c088b971",
   "outputs": [
    {
     "name": "stdout",
     "output_type": "stream",
     "text": [
      "{2, 3, 4, 5}\n"
     ]
    }
   ],
   "execution_count": 150
  },
  {
   "metadata": {
    "ExecuteTime": {
     "end_time": "2025-07-15T03:57:20.597326Z",
     "start_time": "2025-07-15T03:57:20.588058Z"
    }
   },
   "cell_type": "code",
   "source": [
    "for i in d2:\n",
    "    print(i)"
   ],
   "id": "9e1f0aafa6be671e",
   "outputs": [
    {
     "name": "stdout",
     "output_type": "stream",
     "text": [
      "2\n",
      "3\n",
      "4\n",
      "5\n"
     ]
    }
   ],
   "execution_count": 151
  },
  {
   "metadata": {
    "ExecuteTime": {
     "end_time": "2025-07-15T03:57:20.633410Z",
     "start_time": "2025-07-15T03:57:20.630963Z"
    }
   },
   "cell_type": "code",
   "source": [
    "s1.union(s2)\n",
    "s1.update(s2)  # saves the union result\n",
    "print(s1)\n",
    "print(s2)"
   ],
   "id": "22f3ebfc1bbd6940",
   "outputs": [
    {
     "name": "stdout",
     "output_type": "stream",
     "text": [
      "{1, 2, 3, 4, 5, 6}\n",
      "{4, 5, 6}\n"
     ]
    }
   ],
   "execution_count": 152
  },
  {
   "metadata": {
    "ExecuteTime": {
     "end_time": "2025-07-15T03:57:20.670619Z",
     "start_time": "2025-07-15T03:57:20.668495Z"
    }
   },
   "cell_type": "code",
   "source": [
    "s1.update([23,4])\n",
    "print(s1)"
   ],
   "id": "a2f937a6cb9e30f",
   "outputs": [
    {
     "name": "stdout",
     "output_type": "stream",
     "text": [
      "{1, 2, 3, 4, 5, 6, 23}\n"
     ]
    }
   ],
   "execution_count": 153
  },
  {
   "metadata": {
    "ExecuteTime": {
     "end_time": "2025-07-15T03:57:20.714069Z",
     "start_time": "2025-07-15T03:57:20.712304Z"
    }
   },
   "cell_type": "code",
   "source": [
    "print(s1.intersection(s2))\n",
    "print(s1)"
   ],
   "id": "a24522a2bf3874cf",
   "outputs": [
    {
     "name": "stdout",
     "output_type": "stream",
     "text": [
      "{4, 5, 6}\n",
      "{1, 2, 3, 4, 5, 6, 23}\n"
     ]
    }
   ],
   "execution_count": 154
  },
  {
   "metadata": {
    "ExecuteTime": {
     "end_time": "2025-07-15T03:57:20.725710Z",
     "start_time": "2025-07-15T03:57:20.724152Z"
    }
   },
   "cell_type": "code",
   "source": [
    "s1.intersection_update(s2)  # update as well\n",
    "print(s1)"
   ],
   "id": "e66a64c6c0c08361",
   "outputs": [
    {
     "name": "stdout",
     "output_type": "stream",
     "text": [
      "{4, 5, 6}\n"
     ]
    }
   ],
   "execution_count": 155
  },
  {
   "metadata": {
    "ExecuteTime": {
     "end_time": "2025-07-15T03:57:20.749516Z",
     "start_time": "2025-07-15T03:57:20.747597Z"
    }
   },
   "cell_type": "code",
   "source": [
    "s1.update([23])\n",
    "print(s2, s1)\n",
    "s1.difference(s2)\n",
    "print(s1)"
   ],
   "id": "e58e730637da118f",
   "outputs": [
    {
     "name": "stdout",
     "output_type": "stream",
     "text": [
      "{4, 5, 6} {4, 5, 6, 23}\n",
      "{4, 5, 6, 23}\n"
     ]
    }
   ],
   "execution_count": 156
  },
  {
   "metadata": {
    "ExecuteTime": {
     "end_time": "2025-07-15T03:57:20.782142Z",
     "start_time": "2025-07-15T03:57:20.780386Z"
    }
   },
   "cell_type": "code",
   "source": [
    "s1.difference_update(s2)\n",
    "print(s1)"
   ],
   "id": "6fd27b9eabd23384",
   "outputs": [
    {
     "name": "stdout",
     "output_type": "stream",
     "text": [
      "{23}\n"
     ]
    }
   ],
   "execution_count": 157
  },
  {
   "metadata": {
    "ExecuteTime": {
     "end_time": "2025-07-15T03:57:20.794192Z",
     "start_time": "2025-07-15T03:57:20.792132Z"
    }
   },
   "cell_type": "code",
   "source": [
    "s1 = {1,2,3,4}\n",
    "s2 = {5,6,7}\n",
    "\n",
    "s1.isdisjoint(s2)"
   ],
   "id": "971469f718e6b498",
   "outputs": [
    {
     "data": {
      "text/plain": [
       "True"
      ]
     },
     "execution_count": 158,
     "metadata": {},
     "output_type": "execute_result"
    }
   ],
   "execution_count": 158
  },
  {
   "metadata": {
    "ExecuteTime": {
     "end_time": "2025-07-15T03:57:20.815993Z",
     "start_time": "2025-07-15T03:57:20.814050Z"
    }
   },
   "cell_type": "code",
   "source": [
    "s1 = {1,2,3}\n",
    "s2 = {2,3}\n",
    "\n",
    "print(s1.issubset(s2))\n",
    "print(s2.issubset(s1))\n",
    "\n",
    "print(s1.issuperset(s2))"
   ],
   "id": "ff0b6efb10a7e7fb",
   "outputs": [
    {
     "name": "stdout",
     "output_type": "stream",
     "text": [
      "False\n",
      "True\n",
      "True\n"
     ]
    }
   ],
   "execution_count": 159
  },
  {
   "metadata": {
    "ExecuteTime": {
     "end_time": "2025-07-15T03:57:20.849256Z",
     "start_time": "2025-07-15T03:57:20.847400Z"
    }
   },
   "cell_type": "code",
   "source": [
    "s1 = {1,2,3}\n",
    "s2 = s1.copy()\n",
    "\n",
    "# shallow copy\n",
    "print(id(s1))\n",
    "print(id(s2))"
   ],
   "id": "ebb159f1a2b9c1da",
   "outputs": [
    {
     "name": "stdout",
     "output_type": "stream",
     "text": [
      "4503703328\n",
      "4503701984\n"
     ]
    }
   ],
   "execution_count": 160
  },
  {
   "metadata": {},
   "cell_type": "markdown",
   "source": [
    "frozen set is\n",
    "immutable set"
   ],
   "id": "646a243a27c5e22"
  },
  {
   "metadata": {
    "ExecuteTime": {
     "end_time": "2025-07-15T03:57:20.861024Z",
     "start_time": "2025-07-15T03:57:20.859404Z"
    }
   },
   "cell_type": "code",
   "source": "fs = frozenset([1,23,3])",
   "id": "4f4ffda8352a9576",
   "outputs": [],
   "execution_count": 161
  },
  {
   "metadata": {
    "ExecuteTime": {
     "end_time": "2025-07-15T03:57:20.876800Z",
     "start_time": "2025-07-15T03:57:20.874901Z"
    }
   },
   "cell_type": "code",
   "source": "fs",
   "id": "d97144b7e7c761de",
   "outputs": [
    {
     "data": {
      "text/plain": [
       "frozenset({1, 3, 23})"
      ]
     },
     "execution_count": 162,
     "metadata": {},
     "output_type": "execute_result"
    }
   ],
   "execution_count": 162
  },
  {
   "metadata": {
    "ExecuteTime": {
     "end_time": "2025-07-15T03:57:20.918353Z",
     "start_time": "2025-07-15T03:57:20.915529Z"
    }
   },
   "cell_type": "code",
   "source": "fs1 = frozenset({1,2,3})",
   "id": "83510176645f95e1",
   "outputs": [],
   "execution_count": 163
  },
  {
   "metadata": {
    "ExecuteTime": {
     "end_time": "2025-07-15T03:57:20.933851Z",
     "start_time": "2025-07-15T03:57:20.930557Z"
    }
   },
   "cell_type": "code",
   "source": "fs1",
   "id": "de6d30f67687f0cc",
   "outputs": [
    {
     "data": {
      "text/plain": [
       "frozenset({1, 2, 3})"
      ]
     },
     "execution_count": 164,
     "metadata": {},
     "output_type": "execute_result"
    }
   ],
   "execution_count": 164
  },
  {
   "metadata": {
    "ExecuteTime": {
     "end_time": "2025-07-15T03:57:20.949133Z",
     "start_time": "2025-07-15T03:57:20.947064Z"
    }
   },
   "cell_type": "code",
   "source": [
    "fs2 = frozenset({\"f\":\"we\"})\n",
    "print(fs2)"
   ],
   "id": "c191f66c2f9a0009",
   "outputs": [
    {
     "name": "stdout",
     "output_type": "stream",
     "text": [
      "frozenset({'f'})\n"
     ]
    }
   ],
   "execution_count": 165
  },
  {
   "metadata": {
    "ExecuteTime": {
     "end_time": "2025-07-15T03:57:20.984390Z",
     "start_time": "2025-07-15T03:57:20.982302Z"
    }
   },
   "cell_type": "code",
   "source": [
    "x = {i for i in range(1,10)}\n",
    "print(x, type(x))"
   ],
   "id": "b98b3b35366b3323",
   "outputs": [
    {
     "name": "stdout",
     "output_type": "stream",
     "text": [
      "{1, 2, 3, 4, 5, 6, 7, 8, 9} <class 'set'>\n"
     ]
    }
   ],
   "execution_count": 166
  },
  {
   "metadata": {},
   "cell_type": "markdown",
   "source": "## Dictionary",
   "id": "ffca2773ee9b8f4d"
  },
  {
   "metadata": {},
   "cell_type": "markdown",
   "source": [
    "key value map \n",
    "1. mutable\n",
    "2. indexing has no meaning\n",
    "3. keys can't be duplicated\n",
    "4. keys can't be mutable items"
   ],
   "id": "1b4bd7ce52f3c433"
  },
  {
   "metadata": {
    "ExecuteTime": {
     "end_time": "2025-07-15T03:57:20.997374Z",
     "start_time": "2025-07-15T03:57:20.995116Z"
    }
   },
   "cell_type": "code",
   "source": [
    "d = {}\n",
    "d"
   ],
   "id": "8b03761ad4410be4",
   "outputs": [
    {
     "data": {
      "text/plain": [
       "{}"
      ]
     },
     "execution_count": 167,
     "metadata": {},
     "output_type": "execute_result"
    }
   ],
   "execution_count": 167
  },
  {
   "metadata": {
    "ExecuteTime": {
     "end_time": "2025-07-15T03:57:21.013194Z",
     "start_time": "2025-07-15T03:57:21.010623Z"
    }
   },
   "cell_type": "code",
   "source": [
    "d1 = {'name':'shrey', 'age': 30}\n",
    "d1"
   ],
   "id": "ed50ab136440667",
   "outputs": [
    {
     "data": {
      "text/plain": [
       "{'name': 'shrey', 'age': 30}"
      ]
     },
     "execution_count": 168,
     "metadata": {},
     "output_type": "execute_result"
    }
   ],
   "execution_count": 168
  },
  {
   "metadata": {
    "ExecuteTime": {
     "end_time": "2025-07-15T03:57:21.070600Z",
     "start_time": "2025-07-15T03:57:21.059519Z"
    }
   },
   "cell_type": "code",
   "source": [
    "d2 = {{1,2,3}:1, 'hello': 'g'}\n",
    "d2"
   ],
   "id": "50e2c2151d7a5037",
   "outputs": [
    {
     "ename": "TypeError",
     "evalue": "unhashable type: 'set'",
     "output_type": "error",
     "traceback": [
      "\u001B[31m---------------------------------------------------------------------------\u001B[39m",
      "\u001B[31mTypeError\u001B[39m                                 Traceback (most recent call last)",
      "\u001B[36mCell\u001B[39m\u001B[36m \u001B[39m\u001B[32mIn[169]\u001B[39m\u001B[32m, line 1\u001B[39m\n\u001B[32m----> \u001B[39m\u001B[32m1\u001B[39m d2 = {{\u001B[32m1\u001B[39m,\u001B[32m2\u001B[39m,\u001B[32m3\u001B[39m}:\u001B[32m1\u001B[39m, \u001B[33m'\u001B[39m\u001B[33mhello\u001B[39m\u001B[33m'\u001B[39m: \u001B[33m'\u001B[39m\u001B[33mg\u001B[39m\u001B[33m'\u001B[39m}\n\u001B[32m      2\u001B[39m d2\n",
      "\u001B[31mTypeError\u001B[39m: unhashable type: 'set'"
     ]
    }
   ],
   "execution_count": 169
  },
  {
   "metadata": {},
   "cell_type": "markdown",
   "source": "set is mutable so can't be a key",
   "id": "c4f2ad7a5d728598"
  },
  {
   "metadata": {
    "ExecuteTime": {
     "end_time": "2025-07-15T03:57:21.076874Z",
     "start_time": "2025-07-15T03:57:21.074534Z"
    }
   },
   "cell_type": "code",
   "source": [
    "d2 = {(1,2,3):1, 'hel':'0'}\n",
    "d2"
   ],
   "id": "d0312345707b2b16",
   "outputs": [
    {
     "data": {
      "text/plain": [
       "{(1, 2, 3): 1, 'hel': '0'}"
      ]
     },
     "execution_count": 170,
     "metadata": {},
     "output_type": "execute_result"
    }
   ],
   "execution_count": 170
  },
  {
   "metadata": {
    "ExecuteTime": {
     "end_time": "2025-07-15T03:57:21.088557Z",
     "start_time": "2025-07-15T03:57:21.085858Z"
    }
   },
   "cell_type": "code",
   "source": [
    "d4 = dict([(1,1), (2,4), (3,3), (4, \"heello\")])\n",
    "d4"
   ],
   "id": "190e446047766d39",
   "outputs": [
    {
     "data": {
      "text/plain": [
       "{1: 1, 2: 4, 3: 3, 4: 'heello'}"
      ]
     },
     "execution_count": 171,
     "metadata": {},
     "output_type": "execute_result"
    }
   ],
   "execution_count": 171
  },
  {
   "metadata": {
    "ExecuteTime": {
     "end_time": "2025-07-15T03:57:21.122090Z",
     "start_time": "2025-07-15T03:57:21.119525Z"
    }
   },
   "cell_type": "code",
   "source": [
    "d5 = {'name':'shrey', 'name':'shreyans'}\n",
    "d5"
   ],
   "id": "45ee841df79f4d7e",
   "outputs": [
    {
     "data": {
      "text/plain": [
       "{'name': 'shreyans'}"
      ]
     },
     "execution_count": 172,
     "metadata": {},
     "output_type": "execute_result"
    }
   ],
   "execution_count": 172
  },
  {
   "metadata": {},
   "cell_type": "markdown",
   "source": "no duplicate key take last value as final value in above example",
   "id": "a9826a58cc066873"
  },
  {
   "metadata": {
    "ExecuteTime": {
     "end_time": "2025-07-15T03:57:21.145861Z",
     "start_time": "2025-07-15T03:57:21.144096Z"
    }
   },
   "cell_type": "code",
   "source": "print(d4)",
   "id": "13056620464b79ea",
   "outputs": [
    {
     "name": "stdout",
     "output_type": "stream",
     "text": [
      "{1: 1, 2: 4, 3: 3, 4: 'heello'}\n"
     ]
    }
   ],
   "execution_count": 173
  },
  {
   "metadata": {
    "ExecuteTime": {
     "end_time": "2025-07-15T03:57:21.182958Z",
     "start_time": "2025-07-15T03:57:21.181032Z"
    }
   },
   "cell_type": "code",
   "source": "d4[1]  # -> 1 is key here",
   "id": "d2cf4160ce64a69d",
   "outputs": [
    {
     "data": {
      "text/plain": [
       "1"
      ]
     },
     "execution_count": 174,
     "metadata": {},
     "output_type": "execute_result"
    }
   ],
   "execution_count": 174
  },
  {
   "metadata": {
    "ExecuteTime": {
     "end_time": "2025-07-15T03:57:21.193957Z",
     "start_time": "2025-07-15T03:57:21.191914Z"
    }
   },
   "cell_type": "code",
   "source": "d4.get(2)",
   "id": "4eb4ec2ca34b7180",
   "outputs": [
    {
     "data": {
      "text/plain": [
       "4"
      ]
     },
     "execution_count": 175,
     "metadata": {},
     "output_type": "execute_result"
    }
   ],
   "execution_count": 175
  },
  {
   "metadata": {
    "ExecuteTime": {
     "end_time": "2025-07-15T03:57:21.208673Z",
     "start_time": "2025-07-15T03:57:21.206875Z"
    }
   },
   "cell_type": "code",
   "source": [
    "d4[5] = '23'\n",
    "print(d4)"
   ],
   "id": "6cf2af59370ca08e",
   "outputs": [
    {
     "name": "stdout",
     "output_type": "stream",
     "text": [
      "{1: 1, 2: 4, 3: 3, 4: 'heello', 5: '23'}\n"
     ]
    }
   ],
   "execution_count": 176
  },
  {
   "metadata": {
    "ExecuteTime": {
     "end_time": "2025-07-15T03:57:21.247002Z",
     "start_time": "2025-07-15T03:57:21.245313Z"
    }
   },
   "cell_type": "code",
   "source": [
    "# pop \n",
    "d4.pop(5)  # remove key pair\n",
    "print(d4)"
   ],
   "id": "92c10679d87035b4",
   "outputs": [
    {
     "name": "stdout",
     "output_type": "stream",
     "text": [
      "{1: 1, 2: 4, 3: 3, 4: 'heello'}\n"
     ]
    }
   ],
   "execution_count": 177
  },
  {
   "metadata": {
    "ExecuteTime": {
     "end_time": "2025-07-15T03:57:21.270766Z",
     "start_time": "2025-07-15T03:57:21.267911Z"
    }
   },
   "cell_type": "code",
   "source": [
    "d4.popitem()\n",
    "print(d4)  # removes last key value item"
   ],
   "id": "767ab70668da9000",
   "outputs": [
    {
     "name": "stdout",
     "output_type": "stream",
     "text": [
      "{1: 1, 2: 4, 3: 3}\n"
     ]
    }
   ],
   "execution_count": 178
  },
  {
   "metadata": {
    "ExecuteTime": {
     "end_time": "2025-07-15T03:58:47.057901Z",
     "start_time": "2025-07-15T03:58:47.052608Z"
    }
   },
   "cell_type": "code",
   "source": [
    "del d4[1]\n",
    "d4"
   ],
   "id": "5ccddc77e3dd37e4",
   "outputs": [
    {
     "data": {
      "text/plain": [
       "{2: 4, 3: 3}"
      ]
     },
     "execution_count": 179,
     "metadata": {},
     "output_type": "execute_result"
    }
   ],
   "execution_count": 179
  },
  {
   "metadata": {
    "ExecuteTime": {
     "end_time": "2025-07-15T03:59:06.614313Z",
     "start_time": "2025-07-15T03:59:06.590192Z"
    }
   },
   "cell_type": "code",
   "source": [
    "del d4 # delete complete d4\n",
    "print(d4)"
   ],
   "id": "38a6ae71340a89b7",
   "outputs": [
    {
     "ename": "NameError",
     "evalue": "name 'd4' is not defined",
     "output_type": "error",
     "traceback": [
      "\u001B[31m---------------------------------------------------------------------------\u001B[39m",
      "\u001B[31mNameError\u001B[39m                                 Traceback (most recent call last)",
      "\u001B[36mCell\u001B[39m\u001B[36m \u001B[39m\u001B[32mIn[180]\u001B[39m\u001B[32m, line 2\u001B[39m\n\u001B[32m      1\u001B[39m \u001B[38;5;28;01mdel\u001B[39;00m d4 \u001B[38;5;66;03m# delete complete d4\u001B[39;00m\n\u001B[32m----> \u001B[39m\u001B[32m2\u001B[39m \u001B[38;5;28mprint\u001B[39m(d4)\n",
      "\u001B[31mNameError\u001B[39m: name 'd4' is not defined"
     ]
    }
   ],
   "execution_count": 180
  },
  {
   "metadata": {
    "ExecuteTime": {
     "end_time": "2025-07-15T03:59:32.871865Z",
     "start_time": "2025-07-15T03:59:32.866960Z"
    }
   },
   "cell_type": "code",
   "source": [
    "d5 = dict([(1,1), (2,4), (3,3), (4, \"heello\")])\n",
    "d5.clear()\n",
    "print(d5)"
   ],
   "id": "fbd83ca21676c647",
   "outputs": [
    {
     "name": "stdout",
     "output_type": "stream",
     "text": [
      "{}\n"
     ]
    }
   ],
   "execution_count": 181
  },
  {
   "metadata": {
    "ExecuteTime": {
     "end_time": "2025-07-15T04:00:12.697196Z",
     "start_time": "2025-07-15T04:00:12.692834Z"
    }
   },
   "cell_type": "code",
   "source": [
    "d6 = {'student': {'maths': '1', 'science' : '2'}}\n",
    "print(d6['student']['maths'])"
   ],
   "id": "b680afdf2ea57b2",
   "outputs": [
    {
     "name": "stdout",
     "output_type": "stream",
     "text": [
      "1\n"
     ]
    }
   ],
   "execution_count": 182
  },
  {
   "metadata": {
    "ExecuteTime": {
     "end_time": "2025-07-15T04:00:35.937601Z",
     "start_time": "2025-07-15T04:00:35.933927Z"
    }
   },
   "cell_type": "code",
   "source": [
    "del d6['student']['maths']\n",
    "print(d6)"
   ],
   "id": "e19cab4476553b2b",
   "outputs": [
    {
     "name": "stdout",
     "output_type": "stream",
     "text": [
      "{'student': {'science': '2'}}\n"
     ]
    }
   ],
   "execution_count": 183
  },
  {
   "metadata": {
    "ExecuteTime": {
     "end_time": "2025-07-15T04:01:00.479410Z",
     "start_time": "2025-07-15T04:01:00.470093Z"
    }
   },
   "cell_type": "code",
   "source": [
    "d7 = dict([(1,1), (2,4), (3,3), (4, \"heello\")])\n",
    "print(d7)"
   ],
   "id": "364ed0dbf5f90ec9",
   "outputs": [
    {
     "name": "stdout",
     "output_type": "stream",
     "text": [
      "{1: 1, 2: 4, 3: 3, 4: 'heello'}\n"
     ]
    }
   ],
   "execution_count": 184
  },
  {
   "metadata": {
    "ExecuteTime": {
     "end_time": "2025-07-15T04:01:14.889983Z",
     "start_time": "2025-07-15T04:01:14.887656Z"
    }
   },
   "cell_type": "code",
   "source": "print(4 in d7)",
   "id": "6a68daba7698b566",
   "outputs": [
    {
     "name": "stdout",
     "output_type": "stream",
     "text": [
      "True\n"
     ]
    }
   ],
   "execution_count": 185
  },
  {
   "metadata": {
    "ExecuteTime": {
     "end_time": "2025-07-15T04:01:26.817601Z",
     "start_time": "2025-07-15T04:01:26.812902Z"
    }
   },
   "cell_type": "code",
   "source": "print('heello' in d7)",
   "id": "9653baf16eec7a65",
   "outputs": [
    {
     "name": "stdout",
     "output_type": "stream",
     "text": [
      "False\n"
     ]
    }
   ],
   "execution_count": 186
  },
  {
   "metadata": {
    "ExecuteTime": {
     "end_time": "2025-07-15T04:01:38.587745Z",
     "start_time": "2025-07-15T04:01:38.585495Z"
    }
   },
   "cell_type": "code",
   "source": "print('heello' in d7.values())",
   "id": "57fd3baef080c602",
   "outputs": [
    {
     "name": "stdout",
     "output_type": "stream",
     "text": [
      "True\n"
     ]
    }
   ],
   "execution_count": 187
  },
  {
   "metadata": {
    "ExecuteTime": {
     "end_time": "2025-07-15T04:02:11.180163Z",
     "start_time": "2025-07-15T04:02:11.177618Z"
    }
   },
   "cell_type": "code",
   "source": [
    "for i in d7:\n",
    "    print(i)"
   ],
   "id": "a70955b4f940dee4",
   "outputs": [
    {
     "name": "stdout",
     "output_type": "stream",
     "text": [
      "1\n",
      "2\n",
      "3\n",
      "4\n"
     ]
    }
   ],
   "execution_count": 189
  },
  {
   "metadata": {
    "ExecuteTime": {
     "end_time": "2025-07-15T04:02:29.607967Z",
     "start_time": "2025-07-15T04:02:29.603446Z"
    }
   },
   "cell_type": "code",
   "source": [
    "for i in d7:\n",
    "    print(i, d7[i])"
   ],
   "id": "1675a19ab5e40d76",
   "outputs": [
    {
     "name": "stdout",
     "output_type": "stream",
     "text": [
      "1 1\n",
      "2 4\n",
      "3 3\n",
      "4 heello\n"
     ]
    }
   ],
   "execution_count": 190
  },
  {
   "metadata": {
    "ExecuteTime": {
     "end_time": "2025-07-15T04:02:59.837704Z",
     "start_time": "2025-07-15T04:02:59.835048Z"
    }
   },
   "cell_type": "code",
   "source": [
    "for key, val in d7.items():\n",
    "    print(key, val)"
   ],
   "id": "2f5dc7072fc2def8",
   "outputs": [
    {
     "name": "stdout",
     "output_type": "stream",
     "text": [
      "1 1\n",
      "2 4\n",
      "3 3\n",
      "4 heello\n"
     ]
    }
   ],
   "execution_count": 192
  },
  {
   "metadata": {
    "ExecuteTime": {
     "end_time": "2025-07-15T04:03:10.567982Z",
     "start_time": "2025-07-15T04:03:10.564307Z"
    }
   },
   "cell_type": "code",
   "source": [
    "for key in d7.keys():\n",
    "    print(key)"
   ],
   "id": "e97aa8c594b95937",
   "outputs": [
    {
     "name": "stdout",
     "output_type": "stream",
     "text": [
      "1\n",
      "2\n",
      "3\n",
      "4\n"
     ]
    }
   ],
   "execution_count": 193
  },
  {
   "metadata": {
    "ExecuteTime": {
     "end_time": "2025-07-15T04:04:11.144649Z",
     "start_time": "2025-07-15T04:04:11.140599Z"
    }
   },
   "cell_type": "code",
   "source": [
    "for val in d7.values():\n",
    "    print(val)"
   ],
   "id": "404153ac59df2904",
   "outputs": [
    {
     "name": "stdout",
     "output_type": "stream",
     "text": [
      "1\n",
      "4\n",
      "3\n",
      "heello\n"
     ]
    }
   ],
   "execution_count": 194
  },
  {
   "metadata": {
    "ExecuteTime": {
     "end_time": "2025-07-15T04:04:23.509310Z",
     "start_time": "2025-07-15T04:04:23.505426Z"
    }
   },
   "cell_type": "code",
   "source": "len(d7)",
   "id": "2a7e7bceda8e3ab0",
   "outputs": [
    {
     "data": {
      "text/plain": [
       "4"
      ]
     },
     "execution_count": 195,
     "metadata": {},
     "output_type": "execute_result"
    }
   ],
   "execution_count": 195
  },
  {
   "metadata": {
    "ExecuteTime": {
     "end_time": "2025-07-15T04:04:40.461670Z",
     "start_time": "2025-07-15T04:04:40.455448Z"
    }
   },
   "cell_type": "code",
   "source": "sorted(d7)  # sort all keys",
   "id": "32cef5bf98959de0",
   "outputs": [
    {
     "data": {
      "text/plain": [
       "[1, 2, 3, 4]"
      ]
     },
     "execution_count": 196,
     "metadata": {},
     "output_type": "execute_result"
    }
   ],
   "execution_count": 196
  },
  {
   "metadata": {
    "ExecuteTime": {
     "end_time": "2025-07-15T04:05:26.623888Z",
     "start_time": "2025-07-15T04:05:26.615490Z"
    }
   },
   "cell_type": "code",
   "source": [
    "d1 = {1:2, 3:4, 4:5}\n",
    "d2 = {4:7, 6:8}\n",
    "\n",
    "d1.update(d2)\n",
    "print(d1)"
   ],
   "id": "a7b57fc19cf89bb6",
   "outputs": [
    {
     "name": "stdout",
     "output_type": "stream",
     "text": [
      "{1: 2, 3: 4, 4: 7, 6: 8}\n"
     ]
    }
   ],
   "execution_count": 197
  },
  {
   "metadata": {
    "ExecuteTime": {
     "end_time": "2025-07-15T04:06:32.708987Z",
     "start_time": "2025-07-15T04:06:32.704171Z"
    }
   },
   "cell_type": "code",
   "source": [
    "x = {key:key**2 for key in range(1,10)}\n",
    "print(x)"
   ],
   "id": "3bf85ac928908d59",
   "outputs": [
    {
     "name": "stdout",
     "output_type": "stream",
     "text": [
      "{1: 1, 2: 4, 3: 9, 4: 16, 5: 25, 6: 36, 7: 49, 8: 64, 9: 81}\n"
     ]
    }
   ],
   "execution_count": 198
  },
  {
   "metadata": {
    "ExecuteTime": {
     "end_time": "2025-07-15T04:07:46.471905Z",
     "start_time": "2025-07-15T04:07:46.469728Z"
    }
   },
   "cell_type": "code",
   "source": [
    "y = {key:value*10 for (key, value) in x.items()}\n",
    "print(y)"
   ],
   "id": "d46a4551d16d6d2d",
   "outputs": [
    {
     "name": "stdout",
     "output_type": "stream",
     "text": [
      "{1: 10, 2: 40, 3: 90, 4: 160, 5: 250, 6: 360, 7: 490, 8: 640, 9: 810}\n"
     ]
    }
   ],
   "execution_count": 200
  },
  {
   "metadata": {
    "ExecuteTime": {
     "end_time": "2025-07-15T04:08:10.101758Z",
     "start_time": "2025-07-15T04:08:10.099358Z"
    }
   },
   "cell_type": "code",
   "source": [
    "print(x)\n",
    "print(y)"
   ],
   "id": "cbb5d663a6f8d1dd",
   "outputs": [
    {
     "name": "stdout",
     "output_type": "stream",
     "text": [
      "{1: 1, 2: 4, 3: 9, 4: 16, 5: 25, 6: 36, 7: 49, 8: 64, 9: 81}\n",
      "{1: 10, 2: 40, 3: 90, 4: 160, 5: 250, 6: 360, 7: 490, 8: 640, 9: 810}\n"
     ]
    }
   ],
   "execution_count": 201
  },
  {
   "metadata": {
    "ExecuteTime": {
     "end_time": "2025-07-15T04:09:14.784287Z",
     "start_time": "2025-07-15T04:09:14.779778Z"
    }
   },
   "cell_type": "code",
   "source": [
    "a = [1,2,3,4,5]\n",
    "b = [-1,-2,-3,-4,-5]\n",
    "\n",
    "#zip\n",
    "d = {i:j for (i,j) in zip(a,b)}\n",
    "print(d)"
   ],
   "id": "a6bea87b6b7c557d",
   "outputs": [
    {
     "name": "stdout",
     "output_type": "stream",
     "text": [
      "{1: -1, 2: -2, 3: -3, 4: -4, 5: -5}\n"
     ]
    }
   ],
   "execution_count": 202
  },
  {
   "metadata": {
    "ExecuteTime": {
     "end_time": "2025-07-15T04:09:57.919315Z",
     "start_time": "2025-07-15T04:09:57.911455Z"
    }
   },
   "cell_type": "code",
   "source": "print(d)",
   "id": "e965704e7f9d1808",
   "outputs": [
    {
     "name": "stdout",
     "output_type": "stream",
     "text": [
      "{1: -1, 2: -2, 3: -3, 4: -4, 5: -5}\n"
     ]
    }
   ],
   "execution_count": 203
  },
  {
   "metadata": {
    "ExecuteTime": {
     "end_time": "2025-07-15T04:10:57.907412Z",
     "start_time": "2025-07-15T04:10:57.897239Z"
    }
   },
   "cell_type": "code",
   "source": "{key:val for (key,val) in d.items() if val>-4}",
   "id": "f5325954e3795e95",
   "outputs": [
    {
     "data": {
      "text/plain": [
       "{1: -1, 2: -2, 3: -3}"
      ]
     },
     "execution_count": 204,
     "metadata": {},
     "output_type": "execute_result"
    }
   ],
   "execution_count": 204
  },
  {
   "metadata": {
    "ExecuteTime": {
     "end_time": "2025-07-15T07:15:10.469129Z",
     "start_time": "2025-07-15T07:15:10.462251Z"
    }
   },
   "cell_type": "code",
   "source": [
    "# print like\n",
    "# {2 : {1:2, 2:4, 3:6},\n",
    "#  3: {1:3, 2:6, 3:9},\n",
    "#  4: {1:4, 2:8, 3:12}}\n",
    "# \n",
    "\n",
    "dw = {i:{j:j*i for j in range(1,4)} for i in range(2,5)}\n",
    "print(dw)"
   ],
   "id": "3005bc4aaa5ff95",
   "outputs": [
    {
     "name": "stdout",
     "output_type": "stream",
     "text": [
      "{2: {1: 2, 2: 4, 3: 6}, 3: {1: 3, 2: 6, 3: 9}, 4: {1: 4, 2: 8, 3: 12}}\n"
     ]
    }
   ],
   "execution_count": 206
  },
  {
   "metadata": {},
   "cell_type": "code",
   "outputs": [],
   "execution_count": null,
   "source": "",
   "id": "f10312215978ad84"
  }
 ],
 "metadata": {
  "kernelspec": {
   "display_name": "Python 3",
   "language": "python",
   "name": "python3"
  },
  "language_info": {
   "codemirror_mode": {
    "name": "ipython",
    "version": 2
   },
   "file_extension": ".py",
   "mimetype": "text/x-python",
   "name": "python",
   "nbconvert_exporter": "python",
   "pygments_lexer": "ipython2",
   "version": "2.7.6"
  }
 },
 "nbformat": 4,
 "nbformat_minor": 5
}
